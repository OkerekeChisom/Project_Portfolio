{
    "metadata": {
        "kernelspec": {
            "name": "SQL",
            "display_name": "SQL",
            "language": "sql"
        },
        "language_info": {
            "name": "sql",
            "version": ""
        }
    },
    "nbformat_minor": 2,
    "nbformat": 4,
    "cells": [
        {
            "cell_type": "markdown",
            "source": [
                "# **Top 25 T-SQL Tips!**\n",
                "\n",
                "These 25 tips have been tested and executed using SQL 2022 on a modified version of the Northwind\\_2023, w3Schools\\_tutor3 and other sample databases. The queries focus on DQL (Data Query Language), a part of SQL used for quering data in databases. Each tip is marked by difficulty level, indicated by light bulbs:\n",
                "\n",
                "<span style=\"color: var(--vscode-foreground);\">- 💡 1 bulb: Beginner</span>\n",
                "\n",
                "\\- 💡💡 2 bulbs: Intermediate\n",
                "\n",
                "\\- 💡💡💡 3 bulbs: Advanced \n",
                "\n",
                "All emojis used are courtesy of \\[EmojiCopy.com\\]([https://emojicopy.com](https:\\emojicopy.com%29\\)."
            ],
            "metadata": {
                "azdata_cell_guid": "cc93cdd9-7205-4ef0-bc3f-2e9f5716d0c0"
            },
            "attachments": {}
        },
        {
            "cell_type": "markdown",
            "source": [
                "# 💡 Tip 1. Simple SELECT Query Statement"
            ],
            "metadata": {
                "azdata_cell_guid": "1761f71c-787b-4a11-967e-73681d11495b"
            },
            "attachments": {}
        },
        {
            "cell_type": "markdown",
            "source": [
                "This SQL query selects the CustomerName and City columns from the <span style=\"color: var(--vscode-foreground);\">Customers table , displaying data for the top five customer. The&nbsp;TOP 5&nbsp;</span> <span style=\"color: var(--vscode-foreground);\">clause limits the result set to only the first five rows, based on the default&nbsp;</span> <span style=\"color: var(--vscode-foreground);\">ordering of the table. This provides a quick look at customer names and their</span> <span style=\"color: var(--vscode-foreground);\">respective cities.</span>"
            ],
            "metadata": {
                "azdata_cell_guid": "4b4dc78e-5d45-4a86-b99d-b7ab69f1774d"
            },
            "attachments": {}
        },
        {
            "cell_type": "markdown",
            "source": [
                "USE w3schools\\_tutor3;\n",
                "\n",
                "GO\n",
                "\n",
                "SELECT CustomerName\n",
                "\n",
                "           <span style=\"color: var(--vscode-foreground);\">,City</span>\n",
                "\n",
                "FROM Customers\n",
                "\n",
                ";"
            ],
            "metadata": {
                "azdata_cell_guid": "7e5fc508-07e1-4eb8-9158-2db23b440e7a"
            },
            "attachments": {}
        },
        {
            "cell_type": "code",
            "source": [
                "USE w3schools_tutor3;\r\n",
                "GO\r\n",
                "\r\n",
                "SELECT Top 5 CustomerName\r\n",
                "            ,City\r\n",
                "FROM Customers\r\n",
                ";\r\n",
                ""
            ],
            "metadata": {
                "azdata_cell_guid": "a9bfba3e-e5f8-4110-b68d-c94db3f25f2c",
                "language": "sql"
            },
            "outputs": [
                {
                    "output_type": "display_data",
                    "data": {
                        "text/html": "Commands completed successfully."
                    },
                    "metadata": {}
                },
                {
                    "output_type": "display_data",
                    "data": {
                        "text/html": "(5 rows affected)"
                    },
                    "metadata": {}
                },
                {
                    "output_type": "display_data",
                    "data": {
                        "text/html": "Total execution time: 00:00:00.009"
                    },
                    "metadata": {}
                },
                {
                    "output_type": "execute_result",
                    "execution_count": 28,
                    "data": {
                        "application/vnd.dataresource+json": {
                            "schema": {
                                "fields": [
                                    {
                                        "name": "CustomerName"
                                    },
                                    {
                                        "name": "City"
                                    }
                                ]
                            },
                            "data": [
                                {
                                    "CustomerName": "Alfreds Futterkiste",
                                    "City": "Berlin"
                                },
                                {
                                    "CustomerName": "Ana Trujillo Emparedados y helados",
                                    "City": "México D.F."
                                },
                                {
                                    "CustomerName": "Antonio Moreno Taquería",
                                    "City": "México D.F."
                                },
                                {
                                    "CustomerName": "Around the Horn",
                                    "City": "London"
                                },
                                {
                                    "CustomerName": "Berglunds snabbköp",
                                    "City": "Luleå"
                                }
                            ]
                        },
                        "text/html": "<table><tr><th>CustomerName</th><th>City</th></tr><tr><td>Alfreds Futterkiste</td><td>Berlin</td></tr><tr><td>Ana Trujillo Emparedados y helados</td><td>México D.F.</td></tr><tr><td>Antonio Moreno Taquería</td><td>México D.F.</td></tr><tr><td>Around the Horn</td><td>London</td></tr><tr><td>Berglunds snabbköp</td><td>Luleå</td></tr></table>"
                    },
                    "metadata": {}
                }
            ],
            "execution_count": 28
        },
        {
            "cell_type": "markdown",
            "source": [
                "# 💡Tip 2. SELECT Query with WHERE Clause"
            ],
            "metadata": {
                "azdata_cell_guid": "2b2f36f0-c2ef-440e-9ea9-e63922a0d4d5"
            },
            "attachments": {}
        },
        {
            "cell_type": "markdown",
            "source": [
                "Explanation: \n",
                "\n",
                "This query selects the SupplierID, SupplierName and Country <span style=\"color: var(--vscode-foreground);\">of suppliers where their country is Canada.&nbsp;</span> <span style=\"color: var(--vscode-foreground);\">Basic SQL query structure to retrieve specific columns from a table.</span>"
            ],
            "metadata": {
                "azdata_cell_guid": "0ce7021d-032c-406d-a226-714d9d72786a"
            },
            "attachments": {}
        },
        {
            "cell_type": "markdown",
            "source": [
                "USE w3schools\\_tutor3;\n",
                "\n",
                "GO\n",
                "\n",
                "  \n",
                "\n",
                "SELECT  SupplierID\n",
                "\n",
                "       ,SupplierName\n",
                "\n",
                "   ,Country\n",
                "\n",
                "FROM dbo.Suppliers\n",
                "\n",
                "WHERE Country = 'Canada'\n",
                "\n",
                ";"
            ],
            "metadata": {
                "azdata_cell_guid": "eebd9251-5df2-4d3c-b60c-b41ebf82476e"
            },
            "attachments": {}
        },
        {
            "cell_type": "code",
            "source": [
                "USE w3schools_tutor3;\r\n",
                "GO\r\n",
                "\r\n",
                "SELECT  SupplierID\r\n",
                "       ,SupplierName\r\n",
                "\t,Country\r\n",
                "FROM dbo.Suppliers\r\n",
                "WHERE Country = 'Canada'\r\n",
                ";"
            ],
            "metadata": {
                "azdata_cell_guid": "779e75ed-0102-4ed0-a9bc-f65cf3a5a241",
                "language": "sql"
            },
            "outputs": [
                {
                    "output_type": "display_data",
                    "data": {
                        "text/html": "Commands completed successfully."
                    },
                    "metadata": {}
                },
                {
                    "output_type": "display_data",
                    "data": {
                        "text/html": "(2 rows affected)"
                    },
                    "metadata": {}
                },
                {
                    "output_type": "display_data",
                    "data": {
                        "text/html": "Total execution time: 00:00:00.067"
                    },
                    "metadata": {}
                },
                {
                    "output_type": "execute_result",
                    "execution_count": 29,
                    "data": {
                        "application/vnd.dataresource+json": {
                            "schema": {
                                "fields": [
                                    {
                                        "name": "SupplierID"
                                    },
                                    {
                                        "name": "SupplierName"
                                    },
                                    {
                                        "name": "Country"
                                    }
                                ]
                            },
                            "data": [
                                {
                                    "SupplierID": "25",
                                    "SupplierName": "Ma Maison",
                                    "Country": "Canada"
                                },
                                {
                                    "SupplierID": "29",
                                    "SupplierName": "Forêts d'érables",
                                    "Country": "Canada"
                                }
                            ]
                        },
                        "text/html": "<table><tr><th>SupplierID</th><th>SupplierName</th><th>Country</th></tr><tr><td>25</td><td>Ma Maison</td><td>Canada</td></tr><tr><td>29</td><td>Forêts d&#39;érables</td><td>Canada</td></tr></table>"
                    },
                    "metadata": {}
                }
            ],
            "execution_count": 29
        },
        {
            "cell_type": "markdown",
            "source": [
                "# 💡💡Tip 3- SQL AND"
            ],
            "metadata": {
                "azdata_cell_guid": "5280bbb1-17bf-4545-b4f8-100350c08a56"
            },
            "attachments": {}
        },
        {
            "cell_type": "markdown",
            "source": [
                "Explanation:\n",
                "\n",
                "This SQL query retrieves all columns for customers from the Customers table <span style=\"color: var(--vscode-foreground);\">who are located in Spain and whose CustomerName starts with the letter \"G\".&nbsp;</span> <span style=\"color: var(--vscode-foreground);\">The WHERE clause specifies two conditions: Country = Spain, filters for&nbsp;</span> <span style=\"color: var(--vscode-foreground);\">Spanish customers, and CustomerName LIKE 'G%' uses the LIKE&nbsp;operator with&nbsp;</span> <span style=\"color: var(--vscode-foreground);\">\"G%\" to match any customer names beginning with \"G\". The result set shows&nbsp;</span>  <span style=\"color: var(--vscode-foreground);\">Spanish customers with names that start with \"G\".</span>"
            ],
            "metadata": {
                "azdata_cell_guid": "d985df7e-c22b-4775-9cdb-7ee427dd8e77"
            },
            "attachments": {}
        },
        {
            "cell_type": "markdown",
            "source": [
                "USE w3schools\\_tutor3;\n",
                "\n",
                "GO\n",
                "\n",
                "  \n",
                "\n",
                "SELECT \\*\n",
                "\n",
                "FROM dbo.Customers\n",
                "\n",
                "WHERE Country = 'Spain' AND CustomerName LIKE 'G%'\n",
                "\n",
                ";"
            ],
            "metadata": {
                "azdata_cell_guid": "3abc9de6-9114-465d-9540-61ee3a8167ff"
            },
            "attachments": {}
        },
        {
            "cell_type": "code",
            "source": [
                "USE w3schools_tutor3;\r\n",
                "GO\r\n",
                "\r\n",
                "SELECT *\r\n",
                "FROM dbo.Customers\r\n",
                "WHERE Country = 'Spain' AND CustomerName LIKE 'G%'\r\n",
                ";"
            ],
            "metadata": {
                "azdata_cell_guid": "7bfae55f-f1c8-4896-a828-91d70c7d4822",
                "language": "sql"
            },
            "outputs": [
                {
                    "output_type": "display_data",
                    "data": {
                        "text/html": "Commands completed successfully."
                    },
                    "metadata": {}
                },
                {
                    "output_type": "display_data",
                    "data": {
                        "text/html": "(2 rows affected)"
                    },
                    "metadata": {}
                },
                {
                    "output_type": "display_data",
                    "data": {
                        "text/html": "Total execution time: 00:00:00.012"
                    },
                    "metadata": {}
                },
                {
                    "output_type": "execute_result",
                    "execution_count": 30,
                    "data": {
                        "application/vnd.dataresource+json": {
                            "schema": {
                                "fields": [
                                    {
                                        "name": "CustomerID"
                                    },
                                    {
                                        "name": "CustomerName"
                                    },
                                    {
                                        "name": "ContactName"
                                    },
                                    {
                                        "name": "Address"
                                    },
                                    {
                                        "name": "City"
                                    },
                                    {
                                        "name": "PostalCode"
                                    },
                                    {
                                        "name": "Country"
                                    }
                                ]
                            },
                            "data": [
                                {
                                    "CustomerID": "29",
                                    "CustomerName": "Galería del gastrónomo",
                                    "ContactName": "Eduardo Saavedra",
                                    "Address": "Rambla de Cataluña, 23",
                                    "City": "Barcelona",
                                    "PostalCode": "08022",
                                    "Country": "Spain"
                                },
                                {
                                    "CustomerID": "30",
                                    "CustomerName": "Godos Cocina Típica",
                                    "ContactName": "José Pedro Freyre",
                                    "Address": "C/ Romero, 33",
                                    "City": "Sevilla",
                                    "PostalCode": "41101",
                                    "Country": "Spain"
                                }
                            ]
                        },
                        "text/html": "<table><tr><th>CustomerID</th><th>CustomerName</th><th>ContactName</th><th>Address</th><th>City</th><th>PostalCode</th><th>Country</th></tr><tr><td>29</td><td>Galería del gastrónomo</td><td>Eduardo Saavedra</td><td>Rambla de Cataluña, 23</td><td>Barcelona</td><td>08022</td><td>Spain</td></tr><tr><td>30</td><td>Godos Cocina Típica</td><td>José Pedro Freyre</td><td>C/ Romero, 33</td><td>Sevilla</td><td>41101</td><td>Spain</td></tr></table>"
                    },
                    "metadata": {}
                }
            ],
            "execution_count": 30
        },
        {
            "cell_type": "markdown",
            "source": [
                "# 💡Tip 4. Aggreagate Functions: The SQL MIN() and MAX() Functions"
            ],
            "metadata": {
                "azdata_cell_guid": "7396186d-c8ad-4358-b193-bca3e026001f"
            },
            "attachments": {}
        },
        {
            "cell_type": "markdown",
            "source": [
                "Explanation: \n",
                "\n",
                "The first SQL query retrieves the minimum price of products from the <span style=\"color: var(--vscode-foreground);\">Products table and labels the result as MinimumPrice. The second query&nbsp;</span> <span style=\"color: var(--vscode-foreground);\">retrieves the maximum price of products from the same table, labeling the&nbsp;</span> <span style=\"color: var(--vscode-foreground);\">result as MaximumPrice, allowing for a quick comparison of the lowest and</span>\n",
                "\n",
                "highest product prices."
            ],
            "metadata": {
                "azdata_cell_guid": "89f3b9db-0291-4d37-b049-6d8ef0a54d6b"
            },
            "attachments": {}
        },
        {
            "cell_type": "markdown",
            "source": [
                "USE w3schools\\_tutor3;\n",
                "\n",
                "GO\n",
                "\n",
                "  \n",
                "\n",
                "SELECT MIN(Price) as MinimumPrice\n",
                "\n",
                "FROM dbo.Products\n",
                "\n",
                ";\n",
                "\n",
                "  \n",
                "\n",
                "SELECT MAX(Price) as MaximumPrice\n",
                "\n",
                "FROM dbo.Products\n",
                "\n",
                ";"
            ],
            "metadata": {
                "azdata_cell_guid": "49e3d6ec-9454-4350-a266-689ed39254d5"
            },
            "attachments": {}
        },
        {
            "cell_type": "code",
            "source": [
                "USE w3schools_tutor3;\r\n",
                "GO\r\n",
                "\r\n",
                "SELECT MIN(Price) as MinimumPrice\r\n",
                "FROM dbo.Products\r\n",
                ";\r\n",
                "\r\n",
                "SELECT MAX(Price) as MaximumPrice\r\n",
                "FROM dbo.Products\r\n",
                ";\r\n",
                ""
            ],
            "metadata": {
                "azdata_cell_guid": "dfd2c344-4b9e-46eb-bd0e-7f29c0384314",
                "language": "sql"
            },
            "outputs": [
                {
                    "output_type": "display_data",
                    "data": {
                        "text/html": "Commands completed successfully."
                    },
                    "metadata": {}
                },
                {
                    "output_type": "display_data",
                    "data": {
                        "text/html": "(1 row affected)"
                    },
                    "metadata": {}
                },
                {
                    "output_type": "display_data",
                    "data": {
                        "text/html": "(1 row affected)"
                    },
                    "metadata": {}
                },
                {
                    "output_type": "display_data",
                    "data": {
                        "text/html": "Total execution time: 00:00:00.015"
                    },
                    "metadata": {}
                },
                {
                    "output_type": "execute_result",
                    "execution_count": 31,
                    "data": {
                        "application/vnd.dataresource+json": {
                            "schema": {
                                "fields": [
                                    {
                                        "name": "MinimumPrice"
                                    }
                                ]
                            },
                            "data": [
                                {
                                    "MinimumPrice": "2.50"
                                }
                            ]
                        },
                        "text/html": "<table><tr><th>MinimumPrice</th></tr><tr><td>2.50</td></tr></table>"
                    },
                    "metadata": {}
                },
                {
                    "output_type": "execute_result",
                    "execution_count": 31,
                    "data": {
                        "application/vnd.dataresource+json": {
                            "schema": {
                                "fields": [
                                    {
                                        "name": "MaximumPrice"
                                    }
                                ]
                            },
                            "data": [
                                {
                                    "MaximumPrice": "263.50"
                                }
                            ]
                        },
                        "text/html": "<table><tr><th>MaximumPrice</th></tr><tr><td>263.50</td></tr></table>"
                    },
                    "metadata": {}
                }
            ],
            "execution_count": 31
        },
        {
            "cell_type": "markdown",
            "source": [
                "# 💡Tip 5. Another Aggregate Function- SQL COUNT"
            ],
            "metadata": {
                "azdata_cell_guid": "51cc6dd2-3f88-4d7d-b77c-30f10e50b272"
            },
            "attachments": {}
        },
        {
            "cell_type": "markdown",
            "source": [
                "Explanation: \n",
                "\n",
                "This SQL query counts the total number of rows in the Products table and <span style=\"color: var(--vscode-foreground);\">labels the result as TotalProductCount. By using COUNT(*), it includes</span> <span style=\"color: var(--vscode-foreground);\">all records, regardless of whether any specific columns contain NULL values,&nbsp;</span>  <span style=\"color: var(--vscode-foreground);\">providing a complete count of the products available in the table.</span>"
            ],
            "metadata": {
                "azdata_cell_guid": "d1ef0f44-6d0d-4f9a-94ea-4a13bd5ae2b8"
            },
            "attachments": {}
        },
        {
            "cell_type": "markdown",
            "source": [
                "USE w3schools\\_tutor3;\n",
                "\n",
                "GO\n",
                "\n",
                "  \n",
                "\n",
                "SELECT COUNT(\\*)as TotalProductCount\n",
                "\n",
                "FROM Products;"
            ],
            "metadata": {
                "azdata_cell_guid": "c0e5f20f-d453-46d4-885b-7e7fe4116fa3"
            },
            "attachments": {}
        },
        {
            "cell_type": "code",
            "source": [
                "USE w3schools_tutor3;\r\n",
                "GO\r\n",
                "\r\n",
                "SELECT COUNT(*)as TotalProductCount\r\n",
                "FROM Products;"
            ],
            "metadata": {
                "azdata_cell_guid": "ec246a72-f5bb-48d3-a475-37453c91647d",
                "language": "sql"
            },
            "outputs": [
                {
                    "output_type": "display_data",
                    "data": {
                        "text/html": "Commands completed successfully."
                    },
                    "metadata": {}
                },
                {
                    "output_type": "display_data",
                    "data": {
                        "text/html": "(1 row affected)"
                    },
                    "metadata": {}
                },
                {
                    "output_type": "display_data",
                    "data": {
                        "text/html": "Total execution time: 00:00:00.008"
                    },
                    "metadata": {}
                },
                {
                    "output_type": "execute_result",
                    "execution_count": 32,
                    "data": {
                        "application/vnd.dataresource+json": {
                            "schema": {
                                "fields": [
                                    {
                                        "name": "TotalProductCount"
                                    }
                                ]
                            },
                            "data": [
                                {
                                    "TotalProductCount": "77"
                                }
                            ]
                        },
                        "text/html": "<table><tr><th>TotalProductCount</th></tr><tr><td>77</td></tr></table>"
                    },
                    "metadata": {}
                }
            ],
            "execution_count": 32
        },
        {
            "cell_type": "markdown",
            "source": [
                "# 💡Tip 6 - Aggregate Function-DISTINCT COUNT"
            ],
            "metadata": {
                "azdata_cell_guid": "a3195744-9d6a-4682-be5a-28f44f5061e9"
            },
            "attachments": {}
        },
        {
            "cell_type": "markdown",
            "source": [
                "Explanation:  \n",
                "\n",
                "This SQL query calculates the number of unique countries in the Customers <span style=\"color: var(--vscode-foreground);\">table. The COUNT(DISTINCT Country) function counts each unique value in the&nbsp;</span> <span style=\"color: var(--vscode-foreground);\">Country column, providing the total number of distinct countries in the&nbsp;</span> <span style=\"color: var(--vscode-foreground);\">DistinctCountryCount column.</span>"
            ],
            "metadata": {
                "azdata_cell_guid": "88d11f1a-6eeb-4646-921c-b03e852b531b"
            },
            "attachments": {}
        },
        {
            "cell_type": "markdown",
            "source": [
                "USE w3schools\\_tutor3;\n",
                "\n",
                "GO\n",
                "\n",
                "  \n",
                "\n",
                "SELECT COUNT(DISTINCT Country) as DistinctCountryCount\n",
                "\n",
                "FROM dbo.Customers;"
            ],
            "metadata": {
                "azdata_cell_guid": "2c3d4114-7de2-42f9-8c72-924c7f98249a"
            },
            "attachments": {}
        },
        {
            "cell_type": "code",
            "source": [
                "USE w3schools_tutor3;\r\n",
                "GO\r\n",
                "\r\n",
                "SELECT COUNT(DISTINCT Country) as DistinctCountryCount\r\n",
                "FROM dbo.Customers;"
            ],
            "metadata": {
                "azdata_cell_guid": "b550e3d7-018e-45c1-872c-f4df95940246",
                "language": "sql"
            },
            "outputs": [
                {
                    "output_type": "display_data",
                    "data": {
                        "text/html": "Commands completed successfully."
                    },
                    "metadata": {}
                },
                {
                    "output_type": "display_data",
                    "data": {
                        "text/html": "(1 row affected)"
                    },
                    "metadata": {}
                },
                {
                    "output_type": "display_data",
                    "data": {
                        "text/html": "Total execution time: 00:00:00.071"
                    },
                    "metadata": {}
                },
                {
                    "output_type": "execute_result",
                    "execution_count": 33,
                    "data": {
                        "application/vnd.dataresource+json": {
                            "schema": {
                                "fields": [
                                    {
                                        "name": "DistinctCountryCount"
                                    }
                                ]
                            },
                            "data": [
                                {
                                    "DistinctCountryCount": "21"
                                }
                            ]
                        },
                        "text/html": "<table><tr><th>DistinctCountryCount</th></tr><tr><td>21</td></tr></table>"
                    },
                    "metadata": {}
                }
            ],
            "execution_count": 33
        },
        {
            "cell_type": "markdown",
            "source": [
                "# 💡💡Tip 7 - Combination of Aggregate Function-COUNT & Date Function-Year()"
            ],
            "metadata": {
                "azdata_cell_guid": "e04e4995-b6c1-40e4-bcbd-5965c61673c9"
            },
            "attachments": {}
        },
        {
            "cell_type": "markdown",
            "source": [
                "Explanation:\n",
                "\n",
                "This SQL query counts the total number of orders placed in the year 2023 from <span style=\"color: var(--vscode-foreground);\">the orders&nbsp;table. The WHERE YEAR(OrderDate) = 2023&nbsp;condition filters the&nbsp;</span>   <span style=\"color: var(--vscode-foreground);\">results to include only those records where the OrderDate&nbsp;falls within 2023.&nbsp;</span> <span style=\"color: var(--vscode-foreground);\">The final count is labeled as 2023OrderCount,&nbsp;showing the total number of&nbsp;</span> <span style=\"color: var(--vscode-foreground);\">orders for that year.</span>"
            ],
            "metadata": {
                "azdata_cell_guid": "39c46a46-5859-4b11-ae79-8de8b9fb0dcf"
            },
            "attachments": {}
        },
        {
            "cell_type": "markdown",
            "source": [
                "USE Northwind\\_2023;\n",
                "\n",
                "GO\n",
                "\n",
                "  \n",
                "\n",
                "SELECT COUNT(\\*) as '2023OrderCount'\n",
                "\n",
                "FROM dbo.Orders as ord\n",
                "\n",
                "WHERE YEAR(OrderDate) = 2023\n",
                "\n",
                ";"
            ],
            "metadata": {
                "azdata_cell_guid": "2f120b14-ca8f-4ee1-9a0d-2a5a4985c2e8"
            },
            "attachments": {}
        },
        {
            "cell_type": "code",
            "source": [
                "USE Northwind_2023;\r\n",
                "GO\r\n",
                "\r\n",
                "SELECT COUNT(*) as '2023OrderCount'\r\n",
                "FROM dbo.Orders as ord\r\n",
                "WHERE YEAR(OrderDate) = 2023\r\n",
                ";"
            ],
            "metadata": {
                "azdata_cell_guid": "4873dff0-5ab5-494c-9e58-48c7252e4e8a",
                "language": "sql"
            },
            "outputs": [
                {
                    "output_type": "display_data",
                    "data": {
                        "text/html": "Commands completed successfully."
                    },
                    "metadata": {}
                },
                {
                    "output_type": "display_data",
                    "data": {
                        "text/html": "(1 row affected)"
                    },
                    "metadata": {}
                },
                {
                    "output_type": "display_data",
                    "data": {
                        "text/html": "Total execution time: 00:00:00.027"
                    },
                    "metadata": {}
                },
                {
                    "output_type": "execute_result",
                    "execution_count": 34,
                    "data": {
                        "application/vnd.dataresource+json": {
                            "schema": {
                                "fields": [
                                    {
                                        "name": "2023OrderCount"
                                    }
                                ]
                            },
                            "data": [
                                {
                                    "2023OrderCount": "270"
                                }
                            ]
                        },
                        "text/html": "<table><tr><th>2023OrderCount</th></tr><tr><td>270</td></tr></table>"
                    },
                    "metadata": {}
                }
            ],
            "execution_count": 34
        },
        {
            "cell_type": "markdown",
            "source": [
                "# 💡💡Tip 8- SQL Or"
            ],
            "metadata": {
                "azdata_cell_guid": "866676f1-b9e0-42d9-97bc-77b12ac9cd12"
            },
            "attachments": {}
        },
        {
            "cell_type": "markdown",
            "source": [
                "Explanation:\n",
                "\n",
                "This SQL query retrieves the first five records from the \\`Customers\\` table <span style=\"color: var(--vscode-foreground);\">where the Country is either Germany or Spain. The TOP 5 clause limits&nbsp;</span> <span style=\"color: var(--vscode-foreground);\">the result set to only the first five matching rows, allowing for a quick view&nbsp;</span> <span style=\"color: var(--vscode-foreground);\">of customers located in those two specified countries.</span>"
            ],
            "metadata": {
                "azdata_cell_guid": "a0375874-9577-4dac-9b7c-d41f49c3d304"
            },
            "attachments": {}
        },
        {
            "cell_type": "markdown",
            "source": [
                "USE w3schools\\_tutor3;\n",
                "\n",
                "GO\n",
                "\n",
                "  \n",
                "\n",
                "SELECT TOP 5\\*\n",
                "\n",
                "FROM Customers\n",
                "\n",
                "WHERE Country = 'Germany' OR Country = 'Spain'\n",
                "\n",
                ";"
            ],
            "metadata": {
                "azdata_cell_guid": "25cfffc9-ff88-4722-abb7-61a447e661fd"
            },
            "attachments": {}
        },
        {
            "cell_type": "code",
            "source": [
                "USE w3schools_tutor3;\r\n",
                "GO\r\n",
                "\r\n",
                "SELECT TOP 5*\r\n",
                "FROM Customers\r\n",
                "WHERE Country = 'Germany' OR Country = 'Spain'\r\n",
                ";"
            ],
            "metadata": {
                "azdata_cell_guid": "3abee6b8-8151-4c60-ad9b-07c32100e5c0",
                "language": "sql"
            },
            "outputs": [
                {
                    "output_type": "display_data",
                    "data": {
                        "text/html": "Commands completed successfully."
                    },
                    "metadata": {}
                },
                {
                    "output_type": "display_data",
                    "data": {
                        "text/html": "(5 rows affected)"
                    },
                    "metadata": {}
                },
                {
                    "output_type": "display_data",
                    "data": {
                        "text/html": "Total execution time: 00:00:00.025"
                    },
                    "metadata": {}
                },
                {
                    "output_type": "execute_result",
                    "execution_count": 35,
                    "data": {
                        "application/vnd.dataresource+json": {
                            "schema": {
                                "fields": [
                                    {
                                        "name": "CustomerID"
                                    },
                                    {
                                        "name": "CustomerName"
                                    },
                                    {
                                        "name": "ContactName"
                                    },
                                    {
                                        "name": "Address"
                                    },
                                    {
                                        "name": "City"
                                    },
                                    {
                                        "name": "PostalCode"
                                    },
                                    {
                                        "name": "Country"
                                    }
                                ]
                            },
                            "data": [
                                {
                                    "CustomerID": "1",
                                    "CustomerName": "Alfreds Futterkiste",
                                    "ContactName": "Maria Anders",
                                    "Address": "Obere Str. 57",
                                    "City": "Berlin",
                                    "PostalCode": "12209",
                                    "Country": "Germany"
                                },
                                {
                                    "CustomerID": "6",
                                    "CustomerName": "Blauer See Delikatessen",
                                    "ContactName": "Hanna Moos",
                                    "Address": "Forsterstr. 57",
                                    "City": "Mannheim",
                                    "PostalCode": "68306",
                                    "Country": "Germany"
                                },
                                {
                                    "CustomerID": "8",
                                    "CustomerName": "Bólido Comidas preparadas",
                                    "ContactName": "Martín Sommer",
                                    "Address": "C/ Araquil, 67",
                                    "City": "Madrid",
                                    "PostalCode": "28023",
                                    "Country": "Spain"
                                },
                                {
                                    "CustomerID": "17",
                                    "CustomerName": "Drachenblut Delikatessend",
                                    "ContactName": "Sven Ottlieb",
                                    "Address": "Walserweg 21",
                                    "City": "Aachen",
                                    "PostalCode": "52066",
                                    "Country": "Germany"
                                },
                                {
                                    "CustomerID": "22",
                                    "CustomerName": "FISSA Fabrica Inter. Salchichas S.A.",
                                    "ContactName": "Diego Roel",
                                    "Address": "C/ Moralzarzal, 86",
                                    "City": "Madrid",
                                    "PostalCode": "28034",
                                    "Country": "Spain"
                                }
                            ]
                        },
                        "text/html": "<table><tr><th>CustomerID</th><th>CustomerName</th><th>ContactName</th><th>Address</th><th>City</th><th>PostalCode</th><th>Country</th></tr><tr><td>1</td><td>Alfreds Futterkiste</td><td>Maria Anders</td><td>Obere Str. 57</td><td>Berlin</td><td>12209</td><td>Germany</td></tr><tr><td>6</td><td>Blauer See Delikatessen</td><td>Hanna Moos</td><td>Forsterstr. 57</td><td>Mannheim</td><td>68306</td><td>Germany</td></tr><tr><td>8</td><td>Bólido Comidas preparadas</td><td>Martín Sommer</td><td>C/ Araquil, 67</td><td>Madrid</td><td>28023</td><td>Spain</td></tr><tr><td>17</td><td>Drachenblut Delikatessend</td><td>Sven Ottlieb</td><td>Walserweg 21</td><td>Aachen</td><td>52066</td><td>Germany</td></tr><tr><td>22</td><td>FISSA Fabrica Inter. Salchichas S.A.</td><td>Diego Roel</td><td>C/ Moralzarzal, 86</td><td>Madrid</td><td>28034</td><td>Spain</td></tr></table>"
                    },
                    "metadata": {}
                }
            ],
            "execution_count": 35
        },
        {
            "cell_type": "markdown",
            "source": [
                "# 💡Tip 9-SQL Not"
            ],
            "metadata": {
                "azdata_cell_guid": "9d45babe-5bdb-417e-beea-9fb38b8c4e61"
            },
            "attachments": {}
        },
        {
            "cell_type": "markdown",
            "source": [
                "Explanation:\n",
                "\n",
                "This SQL query retrieves the first five records from the Customers table, <span style=\"color: var(--vscode-foreground);\">excluding any customers whose country is Spain. The where NOT Country = Spain filters the result to include only those records where the&nbsp;Country is not equal to Spain, ensuring that customers from other countries are selected.</span> The use of Top 5 limits the output to just the first five matching <span style=\"color: var(--vscode-foreground);\">rows, providing a quick snapshot of customers from various other countries.</span>"
            ],
            "metadata": {
                "azdata_cell_guid": "877dff64-7b4a-4a3b-aa87-2361641d11cf"
            },
            "attachments": {}
        },
        {
            "cell_type": "markdown",
            "source": [
                ""
            ],
            "metadata": {
                "azdata_cell_guid": "21dd1fec-6f6b-4ae6-a036-5c77a3053521"
            }
        },
        {
            "cell_type": "markdown",
            "source": [
                "USE w3schools\\_tutor3;\n",
                "\n",
                "GO\n",
                "\n",
                "  \n",
                "\n",
                "SELECT Top 5 \\*\n",
                "\n",
                "FROM Customers\n",
                "\n",
                "WHERE NOT Country = 'Spain'\n",
                "\n",
                ";"
            ],
            "metadata": {
                "azdata_cell_guid": "586c4203-eeea-43d4-8604-dc918df0a026"
            },
            "attachments": {}
        },
        {
            "cell_type": "code",
            "source": [
                "USE w3schools_tutor3;\r\n",
                "GO\r\n",
                "\r\n",
                "SELECT Top 5 *\r\n",
                "FROM Customers\r\n",
                "WHERE NOT Country = 'Spain'\r\n",
                ";\r\n",
                ""
            ],
            "metadata": {
                "azdata_cell_guid": "852328a9-85c4-4cf2-9d5f-3a945cda31bd",
                "language": "sql"
            },
            "outputs": [
                {
                    "output_type": "display_data",
                    "data": {
                        "text/html": "Commands completed successfully."
                    },
                    "metadata": {}
                },
                {
                    "output_type": "display_data",
                    "data": {
                        "text/html": "(5 rows affected)"
                    },
                    "metadata": {}
                },
                {
                    "output_type": "display_data",
                    "data": {
                        "text/html": "Total execution time: 00:00:00.020"
                    },
                    "metadata": {}
                },
                {
                    "output_type": "execute_result",
                    "execution_count": 36,
                    "data": {
                        "application/vnd.dataresource+json": {
                            "schema": {
                                "fields": [
                                    {
                                        "name": "CustomerID"
                                    },
                                    {
                                        "name": "CustomerName"
                                    },
                                    {
                                        "name": "ContactName"
                                    },
                                    {
                                        "name": "Address"
                                    },
                                    {
                                        "name": "City"
                                    },
                                    {
                                        "name": "PostalCode"
                                    },
                                    {
                                        "name": "Country"
                                    }
                                ]
                            },
                            "data": [
                                {
                                    "CustomerID": "1",
                                    "CustomerName": "Alfreds Futterkiste",
                                    "ContactName": "Maria Anders",
                                    "Address": "Obere Str. 57",
                                    "City": "Berlin",
                                    "PostalCode": "12209",
                                    "Country": "Germany"
                                },
                                {
                                    "CustomerID": "2",
                                    "CustomerName": "Ana Trujillo Emparedados y helados",
                                    "ContactName": "Ana Trujillo",
                                    "Address": "Avda. de la Constitución 2222",
                                    "City": "México D.F.",
                                    "PostalCode": "05021",
                                    "Country": "Mexico"
                                },
                                {
                                    "CustomerID": "3",
                                    "CustomerName": "Antonio Moreno Taquería",
                                    "ContactName": "Antonio Moreno",
                                    "Address": "Mataderos 2312",
                                    "City": "México D.F.",
                                    "PostalCode": "05023",
                                    "Country": "Mexico"
                                },
                                {
                                    "CustomerID": "4",
                                    "CustomerName": "Around the Horn",
                                    "ContactName": "Thomas Hardy",
                                    "Address": "120 Hanover Sq.",
                                    "City": "London",
                                    "PostalCode": "WA1 1DP",
                                    "Country": "UK"
                                },
                                {
                                    "CustomerID": "5",
                                    "CustomerName": "Berglunds snabbköp",
                                    "ContactName": "Christina Berglund",
                                    "Address": "Berguvsvägen 8",
                                    "City": "Luleå",
                                    "PostalCode": "S-958 22",
                                    "Country": "Sweden"
                                }
                            ]
                        },
                        "text/html": "<table><tr><th>CustomerID</th><th>CustomerName</th><th>ContactName</th><th>Address</th><th>City</th><th>PostalCode</th><th>Country</th></tr><tr><td>1</td><td>Alfreds Futterkiste</td><td>Maria Anders</td><td>Obere Str. 57</td><td>Berlin</td><td>12209</td><td>Germany</td></tr><tr><td>2</td><td>Ana Trujillo Emparedados y helados</td><td>Ana Trujillo</td><td>Avda. de la Constitución 2222</td><td>México D.F.</td><td>05021</td><td>Mexico</td></tr><tr><td>3</td><td>Antonio Moreno Taquería</td><td>Antonio Moreno</td><td>Mataderos 2312</td><td>México D.F.</td><td>05023</td><td>Mexico</td></tr><tr><td>4</td><td>Around the Horn</td><td>Thomas Hardy</td><td>120 Hanover Sq.</td><td>London</td><td>WA1 1DP</td><td>UK</td></tr><tr><td>5</td><td>Berglunds snabbköp</td><td>Christina Berglund</td><td>Berguvsvägen 8</td><td>Luleå</td><td>S-958 22</td><td>Sweden</td></tr></table>"
                    },
                    "metadata": {}
                }
            ],
            "execution_count": 36
        },
        {
            "cell_type": "markdown",
            "source": [
                "# 💡💡Tip 10 -SELECT with a CASE Statement"
            ],
            "metadata": {
                "azdata_cell_guid": "7b2717ef-e372-41ea-afff-c175ae6345cf"
            },
            "attachments": {}
        },
        {
            "cell_type": "markdown",
            "source": [
                "Explanation:\n",
                "\n",
                "This SQL query retrieves the top 5 records from the Customers table <span style=\"color: var(--vscode-foreground);\">in the dbo&nbsp;schema, selecting fields like CustomerID, CustomerName,&nbsp;</span> <span style=\"color: var(--vscode-foreground);\">ContactName, Address, City, PostalCode, and Country.&nbsp;</span>   <span style=\"color: var(--vscode-foreground);\">It uses a CASE statement to classify each customer’s country into a region,&nbsp;</span> <span style=\"color: var(--vscode-foreground);\">assigning values like Europe, North America, or Other based on&nbsp;</span> <span style=\"color: var(--vscode-foreground);\">the Country column. The result displays a new column called Region,&nbsp;</span> <span style=\"color: var(--vscode-foreground);\">which categorizes each customer by their geographic region.</span>"
            ],
            "metadata": {
                "azdata_cell_guid": "f174559e-1abb-41d4-8bf9-16197546caf5"
            },
            "attachments": {}
        },
        {
            "cell_type": "markdown",
            "source": [
                "USE w3schools\\_tutor3;\n",
                "\n",
                "GO\n",
                "\n",
                "  \n",
                "\n",
                "SELECT TOP 5 CustomerID\n",
                "\n",
                "      ,CustomerName\n",
                "\n",
                "  ,ContactName\n",
                "\n",
                "  ,\\[Address\\]\n",
                "\n",
                "  ,City\n",
                "\n",
                "  ,PostalCode\n",
                "\n",
                "  ,Country\n",
                "\n",
                "  ,CASE \n",
                "\n",
                "        WHEN Country = 'Germany'OR Country = 'France' OR Country = 'Sweden' OR Country = 'UK' THEN 'Europe'\n",
                "\n",
                "        WHEN Country = 'Mexico' OR Country = 'Canada' THEN 'North America'\n",
                "\n",
                "        WHEN Country = 'Spain' THEN 'Europe'\n",
                "\n",
                "        ELSE 'Other'\n",
                "\n",
                "    END as Region\n",
                "\n",
                "FROM dbo.Customers\n",
                "\n",
                ";"
            ],
            "metadata": {
                "azdata_cell_guid": "86a14c7e-de00-415a-8588-8bb8ab0e21bf"
            },
            "attachments": {}
        },
        {
            "cell_type": "code",
            "source": [
                "USE w3schools_tutor3;\r\n",
                "GO\r\n",
                "\r\n",
                "SELECT TOP 5 CustomerID\r\n",
                "      ,CustomerName\r\n",
                "\t  ,ContactName\r\n",
                "\t  ,[Address]\r\n",
                "\t  ,City\r\n",
                "\t  ,PostalCode\r\n",
                "\t  ,Country\r\n",
                "  ,CASE \r\n",
                "        WHEN Country = 'Germany'OR Country = 'France' OR Country = 'Sweden' OR Country = 'UK' THEN 'Europe'\r\n",
                "        WHEN Country = 'Mexico' OR Country = 'Canada' THEN 'North America'\r\n",
                "        WHEN Country = 'Spain' THEN 'Europe'\r\n",
                "        ELSE 'Other'\r\n",
                "    END as Region\r\n",
                "FROM dbo.Customers\r\n",
                ";"
            ],
            "metadata": {
                "azdata_cell_guid": "d8d24467-5b1b-4d2f-b186-611be0a599a4",
                "language": "sql"
            },
            "outputs": [
                {
                    "output_type": "display_data",
                    "data": {
                        "text/html": "Commands completed successfully."
                    },
                    "metadata": {}
                },
                {
                    "output_type": "display_data",
                    "data": {
                        "text/html": "(5 rows affected)"
                    },
                    "metadata": {}
                },
                {
                    "output_type": "display_data",
                    "data": {
                        "text/html": "Total execution time: 00:00:00.095"
                    },
                    "metadata": {}
                },
                {
                    "output_type": "execute_result",
                    "execution_count": 37,
                    "data": {
                        "application/vnd.dataresource+json": {
                            "schema": {
                                "fields": [
                                    {
                                        "name": "CustomerID"
                                    },
                                    {
                                        "name": "CustomerName"
                                    },
                                    {
                                        "name": "ContactName"
                                    },
                                    {
                                        "name": "Address"
                                    },
                                    {
                                        "name": "City"
                                    },
                                    {
                                        "name": "PostalCode"
                                    },
                                    {
                                        "name": "Country"
                                    },
                                    {
                                        "name": "Region"
                                    }
                                ]
                            },
                            "data": [
                                {
                                    "CustomerID": "1",
                                    "CustomerName": "Alfreds Futterkiste",
                                    "ContactName": "Maria Anders",
                                    "Address": "Obere Str. 57",
                                    "City": "Berlin",
                                    "PostalCode": "12209",
                                    "Country": "Germany",
                                    "Region": "Europe"
                                },
                                {
                                    "CustomerID": "2",
                                    "CustomerName": "Ana Trujillo Emparedados y helados",
                                    "ContactName": "Ana Trujillo",
                                    "Address": "Avda. de la Constitución 2222",
                                    "City": "México D.F.",
                                    "PostalCode": "05021",
                                    "Country": "Mexico",
                                    "Region": "North America"
                                },
                                {
                                    "CustomerID": "3",
                                    "CustomerName": "Antonio Moreno Taquería",
                                    "ContactName": "Antonio Moreno",
                                    "Address": "Mataderos 2312",
                                    "City": "México D.F.",
                                    "PostalCode": "05023",
                                    "Country": "Mexico",
                                    "Region": "North America"
                                },
                                {
                                    "CustomerID": "4",
                                    "CustomerName": "Around the Horn",
                                    "ContactName": "Thomas Hardy",
                                    "Address": "120 Hanover Sq.",
                                    "City": "London",
                                    "PostalCode": "WA1 1DP",
                                    "Country": "UK",
                                    "Region": "Europe"
                                },
                                {
                                    "CustomerID": "5",
                                    "CustomerName": "Berglunds snabbköp",
                                    "ContactName": "Christina Berglund",
                                    "Address": "Berguvsvägen 8",
                                    "City": "Luleå",
                                    "PostalCode": "S-958 22",
                                    "Country": "Sweden",
                                    "Region": "Europe"
                                }
                            ]
                        },
                        "text/html": "<table><tr><th>CustomerID</th><th>CustomerName</th><th>ContactName</th><th>Address</th><th>City</th><th>PostalCode</th><th>Country</th><th>Region</th></tr><tr><td>1</td><td>Alfreds Futterkiste</td><td>Maria Anders</td><td>Obere Str. 57</td><td>Berlin</td><td>12209</td><td>Germany</td><td>Europe</td></tr><tr><td>2</td><td>Ana Trujillo Emparedados y helados</td><td>Ana Trujillo</td><td>Avda. de la Constitución 2222</td><td>México D.F.</td><td>05021</td><td>Mexico</td><td>North America</td></tr><tr><td>3</td><td>Antonio Moreno Taquería</td><td>Antonio Moreno</td><td>Mataderos 2312</td><td>México D.F.</td><td>05023</td><td>Mexico</td><td>North America</td></tr><tr><td>4</td><td>Around the Horn</td><td>Thomas Hardy</td><td>120 Hanover Sq.</td><td>London</td><td>WA1 1DP</td><td>UK</td><td>Europe</td></tr><tr><td>5</td><td>Berglunds snabbköp</td><td>Christina Berglund</td><td>Berguvsvägen 8</td><td>Luleå</td><td>S-958 22</td><td>Sweden</td><td>Europe</td></tr></table>"
                    },
                    "metadata": {}
                }
            ],
            "execution_count": 37
        },
        {
            "cell_type": "markdown",
            "source": [
                "# 💡💡Tip 11. SELECT with INNER JOIN"
            ],
            "metadata": {
                "language": "sql",
                "azdata_cell_guid": "5f1a266f-e30a-4531-bf01-abbb49f5e7ab"
            },
            "attachments": {}
        },
        {
            "cell_type": "markdown",
            "source": [
                "Explanation: \n",
                "\n",
                "This SQL query retrieves Top 5 customer and order information by performing an <span style=\"color: var(--vscode-foreground);\">INNER JOIN between the Customers table (aliased as cus) and the Orders</span><span style=\"color: var(--vscode-foreground);\">table (aliased as ord). It selects fields including CustomerID,&nbsp;</span>  <span style=\"color: var(--vscode-foreground);\">CustomerName, ContactName, and Country from the Customers table, and&nbsp;</span>  \n",
                "\n",
                "OrderID and OrderDate from the Orders table. The join condition, <span style=\"color: var(--vscode-foreground);\">ON cus.CustomerID = ord.CustomerID, ensures that only customers with&nbsp;</span>  <span style=\"color: var(--vscode-foreground);\">matching orders are included in the result.</span>"
            ],
            "metadata": {
                "language": "sql",
                "azdata_cell_guid": "46dc902f-83bb-4d0d-a211-cf95e46f2d68"
            },
            "attachments": {}
        },
        {
            "cell_type": "markdown",
            "source": [
                "USE w3schools\\_tutor3;\n",
                "\n",
                "GO\n",
                "\n",
                "  \n",
                "\n",
                "SELECT TOP 5 cus.CustomerID\n",
                "\n",
                "      ,cus.CustomerName\n",
                "\n",
                "  ,cus.ContactName\n",
                "\n",
                "  ,cus.Country\n",
                "\n",
                "  ,ord.OrderID\n",
                "\n",
                "  ,ord.OrderDate\n",
                "\n",
                "FROM dbo.Customers as cus\n",
                "\n",
                "     INNER JOIN dbo.Orders as ord \n",
                "\n",
                "     ON cus.CustomerID = ord.CustomerID\n",
                "\n",
                ";"
            ],
            "metadata": {
                "language": "sql",
                "azdata_cell_guid": "5fe717df-3803-4bb5-a333-1601c795ef31"
            },
            "attachments": {}
        },
        {
            "cell_type": "code",
            "source": [
                "USE w3schools_tutor3;\r\n",
                "GO\r\n",
                "\r\n",
                "SELECT TOP 5 cus.CustomerID\r\n",
                "      ,cus.CustomerName\r\n",
                "\t  ,cus.ContactName\r\n",
                "\t  ,cus.Country\r\n",
                "\t  ,ord.OrderID\r\n",
                "\t  ,ord.OrderDate\r\n",
                "FROM dbo.Customers as cus\r\n",
                "     INNER JOIN dbo.Orders as ord \r\n",
                "     ON cus.CustomerID = ord.CustomerID\r\n",
                ";"
            ],
            "metadata": {
                "language": "sql",
                "azdata_cell_guid": "06f1ca46-e8fc-4aaa-9133-e9bd5f18f336"
            },
            "outputs": [
                {
                    "output_type": "display_data",
                    "data": {
                        "text/html": "Commands completed successfully."
                    },
                    "metadata": {}
                },
                {
                    "output_type": "display_data",
                    "data": {
                        "text/html": "(5 rows affected)"
                    },
                    "metadata": {}
                },
                {
                    "output_type": "display_data",
                    "data": {
                        "text/html": "Total execution time: 00:00:00.029"
                    },
                    "metadata": {}
                },
                {
                    "output_type": "execute_result",
                    "execution_count": 38,
                    "data": {
                        "application/vnd.dataresource+json": {
                            "schema": {
                                "fields": [
                                    {
                                        "name": "CustomerID"
                                    },
                                    {
                                        "name": "CustomerName"
                                    },
                                    {
                                        "name": "ContactName"
                                    },
                                    {
                                        "name": "Country"
                                    },
                                    {
                                        "name": "OrderID"
                                    },
                                    {
                                        "name": "OrderDate"
                                    }
                                ]
                            },
                            "data": [
                                {
                                    "CustomerID": "2",
                                    "CustomerName": "Ana Trujillo Emparedados y helados",
                                    "ContactName": "Ana Trujillo",
                                    "Country": "Mexico",
                                    "OrderID": "10308",
                                    "OrderDate": "1996-09-18"
                                },
                                {
                                    "CustomerID": "3",
                                    "CustomerName": "Antonio Moreno Taquería",
                                    "ContactName": "Antonio Moreno",
                                    "Country": "Mexico",
                                    "OrderID": "10365",
                                    "OrderDate": "1996-11-27"
                                },
                                {
                                    "CustomerID": "4",
                                    "CustomerName": "Around the Horn",
                                    "ContactName": "Thomas Hardy",
                                    "Country": "UK",
                                    "OrderID": "10355",
                                    "OrderDate": "1996-11-15"
                                },
                                {
                                    "CustomerID": "4",
                                    "CustomerName": "Around the Horn",
                                    "ContactName": "Thomas Hardy",
                                    "Country": "UK",
                                    "OrderID": "10383",
                                    "OrderDate": "1996-12-16"
                                },
                                {
                                    "CustomerID": "5",
                                    "CustomerName": "Berglunds snabbköp",
                                    "ContactName": "Christina Berglund",
                                    "Country": "Sweden",
                                    "OrderID": "10278",
                                    "OrderDate": "1996-08-12"
                                }
                            ]
                        },
                        "text/html": "<table><tr><th>CustomerID</th><th>CustomerName</th><th>ContactName</th><th>Country</th><th>OrderID</th><th>OrderDate</th></tr><tr><td>2</td><td>Ana Trujillo Emparedados y helados</td><td>Ana Trujillo</td><td>Mexico</td><td>10308</td><td>1996-09-18</td></tr><tr><td>3</td><td>Antonio Moreno Taquería</td><td>Antonio Moreno</td><td>Mexico</td><td>10365</td><td>1996-11-27</td></tr><tr><td>4</td><td>Around the Horn</td><td>Thomas Hardy</td><td>UK</td><td>10355</td><td>1996-11-15</td></tr><tr><td>4</td><td>Around the Horn</td><td>Thomas Hardy</td><td>UK</td><td>10383</td><td>1996-12-16</td></tr><tr><td>5</td><td>Berglunds snabbköp</td><td>Christina Berglund</td><td>Sweden</td><td>10278</td><td>1996-08-12</td></tr></table>"
                    },
                    "metadata": {}
                }
            ],
            "execution_count": 38
        },
        {
            "cell_type": "markdown",
            "source": [
                "# 💡💡Tip 12-LEFT OUTER JOIN"
            ],
            "metadata": {
                "language": "sql",
                "azdata_cell_guid": "fa3dcf3c-199c-42a2-a453-0ba5b5bc31e6"
            },
            "attachments": {}
        },
        {
            "cell_type": "markdown",
            "source": [
                "Explanation:\n",
                "\n",
                "This SQL query identifies customers who have not placed any orders. It retrieves the <span style=\"color: var(--vscode-foreground);\">CustomerID, CompanyName, ContactName, and Country from the Customers table. Using a LEFT OUTER JOIN with the Order table, the query customer with their orders and filters the results to include only those where no orders exist. ( CustomerID IS NULL`). This helps find customers who have not made any purchases,</span><span style=\"color: var(--vscode-foreground);\">which can be useful for targeted outreach or marketing efforts.</span>"
            ],
            "metadata": {
                "language": "sql",
                "azdata_cell_guid": "0298255c-b8dc-471a-b0c7-24a10fb1ffc2"
            },
            "attachments": {}
        },
        {
            "cell_type": "markdown",
            "source": [
                "USE Northwind\\_2023;\n",
                "\n",
                "GO\n",
                "\n",
                "  \n",
                "\n",
                "SELECT cus.CustomerID\n",
                "\n",
                "      ,cus.CompanyName\n",
                "\n",
                "      ,cus.ContactName\n",
                "\n",
                "      ,cus.Country\n",
                "\n",
                "FROM dbo.Customers as cus\n",
                "\n",
                "     LEFT OUTER JOIN dbo.Orders as ord\n",
                "\n",
                "     ON cus.CustomerID = ord.CustomerID\n",
                "\n",
                "WHERE ord.CustomerID IS NULL\n",
                "\n",
                ";"
            ],
            "metadata": {
                "language": "sql",
                "azdata_cell_guid": "f8c8d9a5-5a36-4555-a0db-3825a589be9d"
            },
            "attachments": {}
        },
        {
            "cell_type": "code",
            "source": [
                "USE Northwind_2023;\r\n",
                "GO\r\n",
                "\r\n",
                "SELECT cus.CustomerID\r\n",
                "      ,cus.CompanyName\r\n",
                "      ,cus.ContactName\r\n",
                "      ,cus.Country\r\n",
                "FROM dbo.Customers as cus\r\n",
                "     LEFT OUTER JOIN dbo.Orders as ord\r\n",
                "     ON cus.CustomerID = ord.CustomerID\r\n",
                "WHERE ord.CustomerID IS NULL\r\n",
                ";\r\n",
                ""
            ],
            "metadata": {
                "language": "sql",
                "azdata_cell_guid": "5f4f9b38-a20d-47f6-bd91-f7aa60247bfc"
            },
            "outputs": [
                {
                    "output_type": "display_data",
                    "data": {
                        "text/html": "Commands completed successfully."
                    },
                    "metadata": {}
                },
                {
                    "output_type": "display_data",
                    "data": {
                        "text/html": "(2 rows affected)"
                    },
                    "metadata": {}
                },
                {
                    "output_type": "display_data",
                    "data": {
                        "text/html": "Total execution time: 00:00:00.025"
                    },
                    "metadata": {}
                },
                {
                    "output_type": "execute_result",
                    "execution_count": 39,
                    "data": {
                        "application/vnd.dataresource+json": {
                            "schema": {
                                "fields": [
                                    {
                                        "name": "CustomerID"
                                    },
                                    {
                                        "name": "CompanyName"
                                    },
                                    {
                                        "name": "ContactName"
                                    },
                                    {
                                        "name": "Country"
                                    }
                                ]
                            },
                            "data": [
                                {
                                    "CustomerID": "PARIS",
                                    "CompanyName": "Paris spécialités",
                                    "ContactName": "Marie Bertrand",
                                    "Country": "France"
                                },
                                {
                                    "CustomerID": "FISSA",
                                    "CompanyName": "FISSA Fabrica Inter. Salchichas S.A.",
                                    "ContactName": "Diego Roel",
                                    "Country": "Spain"
                                }
                            ]
                        },
                        "text/html": "<table><tr><th>CustomerID</th><th>CompanyName</th><th>ContactName</th><th>Country</th></tr><tr><td>PARIS</td><td>Paris spécialités</td><td>Marie Bertrand</td><td>France</td></tr><tr><td>FISSA</td><td>FISSA Fabrica Inter. Salchichas S.A.</td><td>Diego Roel</td><td>Spain</td></tr></table>"
                    },
                    "metadata": {}
                }
            ],
            "execution_count": 39
        },
        {
            "cell_type": "markdown",
            "source": [
                "# 💡💡Tip 13- Self Join"
            ],
            "metadata": {
                "language": "sql",
                "azdata_cell_guid": "111a5931-9d10-48c9-9aab-8fd956d50706"
            },
            "attachments": {}
        },
        {
            "cell_type": "markdown",
            "source": [
                "This SQL query retrieves each employee's ID, first and last names <span style=\"color: var(--vscode-foreground);\">(renamed as EmpLast&nbsp;and EmpFirst), title, and manager details.&nbsp;</span> <span style=\"color: var(--vscode-foreground);\">It uses a LEFT OUTER JOIN&nbsp;&nbsp;to associate each employee with their manager based&nbsp;</span> <span style=\"color: var(--vscode-foreground);\">on Reorts To&nbsp;; if an employee has no manager, the ISNULL&nbsp;function assigns&nbsp;</span>    \n",
                "\n",
                "default values (-99 for ReportTo and Board of Directors for MgrTitle). <span style=\"color: var(--vscode-foreground);\">Additionally, the query combines the manager’s first and last names into a&nbsp;</span>  <span style=\"color: var(--vscode-foreground);\">single Manager&nbsp;field for easier reference.</span>"
            ],
            "metadata": {
                "language": "sql",
                "azdata_cell_guid": "65c281e8-bba9-479a-bb5e-77e9d51e38cf"
            },
            "attachments": {}
        },
        {
            "cell_type": "markdown",
            "source": [
                "USE Northwind\\_2023;\n",
                "\n",
                "GO\n",
                "\n",
                "  \n",
                "\n",
                "SELECT emp.EmployeeID \n",
                "\n",
                "     , emp.FirstName as 'EmpLast'\n",
                "\n",
                ", emp.Lastname  as 'EmpFirst'\n",
                "\n",
                ", emp.Title     as 'EmpTitle'\n",
                "\n",
                "     , ISNULL(emp.ReportsTo,-99) as 'ReportTo'\n",
                "\n",
                ", concat(mgr.FirstName, '' ,mgr.LastName) as 'Manager'\n",
                "\n",
                ", ISNULL(mgr.Title, 'Board of Directors') as 'MgrTitle'\n",
                "\n",
                "FROM Employees as emp\n",
                "\n",
                "     LEFT OUTER JOIN Employees as mgr \n",
                "\n",
                "ON emp.ReportsTo = mgr.EmployeeID\n",
                "\n",
                ";"
            ],
            "metadata": {
                "language": "sql",
                "azdata_cell_guid": "74764bdd-e4d6-41a8-8306-b93003290fd6"
            },
            "attachments": {}
        },
        {
            "cell_type": "code",
            "source": [
                "USE Northwind_2023;\r\n",
                "GO\r\n",
                "\r\n",
                "SELECT emp.EmployeeID \r\n",
                "     , emp.FirstName as 'EmpLast'\r\n",
                "\t , emp.Lastname  as 'EmpFirst'\r\n",
                "\t , emp.Title     as 'EmpTitle'\r\n",
                "     , ISNULL(emp.ReportsTo,-99) as 'ReportTo'\r\n",
                "\t , concat(mgr.FirstName, '' ,mgr.LastName) as 'Manager'\r\n",
                "\t , ISNULL(mgr.Title, 'Board of Directors') as 'MgrTitle'\r\n",
                "FROM Employees as emp\r\n",
                "     LEFT OUTER JOIN Employees as mgr \r\n",
                "\t ON emp.ReportsTo = mgr.EmployeeID\r\n",
                ";"
            ],
            "metadata": {
                "language": "sql",
                "azdata_cell_guid": "0748b892-0f7a-4215-8ff0-14a362de49f2"
            },
            "outputs": [
                {
                    "output_type": "display_data",
                    "data": {
                        "text/html": "Commands completed successfully."
                    },
                    "metadata": {}
                },
                {
                    "output_type": "display_data",
                    "data": {
                        "text/html": "(9 rows affected)"
                    },
                    "metadata": {}
                },
                {
                    "output_type": "display_data",
                    "data": {
                        "text/html": "Total execution time: 00:00:00.027"
                    },
                    "metadata": {}
                },
                {
                    "output_type": "execute_result",
                    "execution_count": 40,
                    "data": {
                        "application/vnd.dataresource+json": {
                            "schema": {
                                "fields": [
                                    {
                                        "name": "EmployeeID"
                                    },
                                    {
                                        "name": "EmpLast"
                                    },
                                    {
                                        "name": "EmpFirst"
                                    },
                                    {
                                        "name": "EmpTitle"
                                    },
                                    {
                                        "name": "ReportTo"
                                    },
                                    {
                                        "name": "Manager"
                                    },
                                    {
                                        "name": "MgrTitle"
                                    }
                                ]
                            },
                            "data": [
                                {
                                    "EmployeeID": "1",
                                    "EmpLast": "Nancy",
                                    "EmpFirst": "Davolio",
                                    "EmpTitle": "Sales Representative",
                                    "ReportTo": "2",
                                    "Manager": "AndrewFuller",
                                    "MgrTitle": "Vice President, Sales"
                                },
                                {
                                    "EmployeeID": "2",
                                    "EmpLast": "Andrew",
                                    "EmpFirst": "Fuller",
                                    "EmpTitle": "Vice President, Sales",
                                    "ReportTo": "-99",
                                    "Manager": "",
                                    "MgrTitle": "Board of Directors"
                                },
                                {
                                    "EmployeeID": "3",
                                    "EmpLast": "Janet",
                                    "EmpFirst": "Leverling",
                                    "EmpTitle": "Sales Representative",
                                    "ReportTo": "2",
                                    "Manager": "AndrewFuller",
                                    "MgrTitle": "Vice President, Sales"
                                },
                                {
                                    "EmployeeID": "4",
                                    "EmpLast": "Margaret",
                                    "EmpFirst": "Peacock",
                                    "EmpTitle": "Sales Representative",
                                    "ReportTo": "2",
                                    "Manager": "AndrewFuller",
                                    "MgrTitle": "Vice President, Sales"
                                },
                                {
                                    "EmployeeID": "5",
                                    "EmpLast": "Steven",
                                    "EmpFirst": "Buchanan",
                                    "EmpTitle": "Sales Manager",
                                    "ReportTo": "2",
                                    "Manager": "AndrewFuller",
                                    "MgrTitle": "Vice President, Sales"
                                },
                                {
                                    "EmployeeID": "6",
                                    "EmpLast": "Michael",
                                    "EmpFirst": "Suyama",
                                    "EmpTitle": "Sales Representative",
                                    "ReportTo": "5",
                                    "Manager": "StevenBuchanan",
                                    "MgrTitle": "Sales Manager"
                                },
                                {
                                    "EmployeeID": "7",
                                    "EmpLast": "Robert",
                                    "EmpFirst": "King",
                                    "EmpTitle": "Sales Representative",
                                    "ReportTo": "5",
                                    "Manager": "StevenBuchanan",
                                    "MgrTitle": "Sales Manager"
                                },
                                {
                                    "EmployeeID": "8",
                                    "EmpLast": "Laura",
                                    "EmpFirst": "Callahan",
                                    "EmpTitle": "Inside Sales Coordinator",
                                    "ReportTo": "2",
                                    "Manager": "AndrewFuller",
                                    "MgrTitle": "Vice President, Sales"
                                },
                                {
                                    "EmployeeID": "9",
                                    "EmpLast": "Anne",
                                    "EmpFirst": "Dodsworth",
                                    "EmpTitle": "Sales Representative",
                                    "ReportTo": "5",
                                    "Manager": "StevenBuchanan",
                                    "MgrTitle": "Sales Manager"
                                }
                            ]
                        },
                        "text/html": "<table><tr><th>EmployeeID</th><th>EmpLast</th><th>EmpFirst</th><th>EmpTitle</th><th>ReportTo</th><th>Manager</th><th>MgrTitle</th></tr><tr><td>1</td><td>Nancy</td><td>Davolio</td><td>Sales Representative</td><td>2</td><td>AndrewFuller</td><td>Vice President, Sales</td></tr><tr><td>2</td><td>Andrew</td><td>Fuller</td><td>Vice President, Sales</td><td>-99</td><td></td><td>Board of Directors</td></tr><tr><td>3</td><td>Janet</td><td>Leverling</td><td>Sales Representative</td><td>2</td><td>AndrewFuller</td><td>Vice President, Sales</td></tr><tr><td>4</td><td>Margaret</td><td>Peacock</td><td>Sales Representative</td><td>2</td><td>AndrewFuller</td><td>Vice President, Sales</td></tr><tr><td>5</td><td>Steven</td><td>Buchanan</td><td>Sales Manager</td><td>2</td><td>AndrewFuller</td><td>Vice President, Sales</td></tr><tr><td>6</td><td>Michael</td><td>Suyama</td><td>Sales Representative</td><td>5</td><td>StevenBuchanan</td><td>Sales Manager</td></tr><tr><td>7</td><td>Robert</td><td>King</td><td>Sales Representative</td><td>5</td><td>StevenBuchanan</td><td>Sales Manager</td></tr><tr><td>8</td><td>Laura</td><td>Callahan</td><td>Inside Sales Coordinator</td><td>2</td><td>AndrewFuller</td><td>Vice President, Sales</td></tr><tr><td>9</td><td>Anne</td><td>Dodsworth</td><td>Sales Representative</td><td>5</td><td>StevenBuchanan</td><td>Sales Manager</td></tr></table>"
                    },
                    "metadata": {}
                }
            ],
            "execution_count": 40
        },
        {
            "cell_type": "markdown",
            "source": [
                "# 💡💡Tip 14- SELECT with Aggregate Function (GROUP BY)"
            ],
            "metadata": {
                "language": "sql",
                "azdata_cell_guid": "98863ff2-2d6a-4280-a7c8-7706fd1b23ef"
            },
            "attachments": {}
        },
        {
            "cell_type": "markdown",
            "source": [
                "This SQL query retrieves the first five countries from the Customers table <span style=\"color: var(--vscode-foreground);\">and counts the number of customers associated with each country, labeling</span> <span style=\"color: var(--vscode-foreground);\">this count as NumberOfCustomers. It groups the results by the Country&nbsp;</span> <span style=\"color: var(--vscode-foreground);\">column to summarize customer counts for each distinct country.</span>"
            ],
            "metadata": {
                "language": "sql",
                "azdata_cell_guid": "0f286561-2c64-41bb-ab8b-89eb0bd64be4"
            },
            "attachments": {}
        },
        {
            "cell_type": "markdown",
            "source": [
                "USE w3schools\\_tutor3;\n",
                "\n",
                "GO\n",
                "\n",
                "  \n",
                "\n",
                "SELECT TOP 5 Country\n",
                "\n",
                "      ,COUNT(CustomerID) as NumberOfCustomers\n",
                "\n",
                "FROM dbo.Customers\n",
                "\n",
                "GROUP BY Country\n",
                "\n",
                ";"
            ],
            "metadata": {
                "language": "sql",
                "azdata_cell_guid": "0a92a668-5ee5-4cef-bde4-b7fa861f4e35"
            },
            "attachments": {}
        },
        {
            "cell_type": "code",
            "source": [
                "USE w3schools_tutor3;\r\n",
                "GO\r\n",
                "\r\n",
                "SELECT TOP 5 Country\r\n",
                "      ,COUNT(CustomerID) as NumberOfCustomers\r\n",
                "FROM dbo.Customers\r\n",
                "GROUP BY Country\r\n",
                ";"
            ],
            "metadata": {
                "language": "sql",
                "azdata_cell_guid": "f954127a-aa18-4f0c-8190-cb33d4f7bd1c"
            },
            "outputs": [
                {
                    "output_type": "display_data",
                    "data": {
                        "text/html": "Commands completed successfully."
                    },
                    "metadata": {}
                },
                {
                    "output_type": "display_data",
                    "data": {
                        "text/html": "(5 rows affected)"
                    },
                    "metadata": {}
                },
                {
                    "output_type": "display_data",
                    "data": {
                        "text/html": "Total execution time: 00:00:00.057"
                    },
                    "metadata": {}
                },
                {
                    "output_type": "execute_result",
                    "execution_count": 41,
                    "data": {
                        "application/vnd.dataresource+json": {
                            "schema": {
                                "fields": [
                                    {
                                        "name": "Country"
                                    },
                                    {
                                        "name": "NumberOfCustomers"
                                    }
                                ]
                            },
                            "data": [
                                {
                                    "Country": "Argentina",
                                    "NumberOfCustomers": "3"
                                },
                                {
                                    "Country": "Austria",
                                    "NumberOfCustomers": "2"
                                },
                                {
                                    "Country": "Belgium",
                                    "NumberOfCustomers": "2"
                                },
                                {
                                    "Country": "Brazil",
                                    "NumberOfCustomers": "9"
                                },
                                {
                                    "Country": "Canada",
                                    "NumberOfCustomers": "3"
                                }
                            ]
                        },
                        "text/html": "<table><tr><th>Country</th><th>NumberOfCustomers</th></tr><tr><td>Argentina</td><td>3</td></tr><tr><td>Austria</td><td>2</td></tr><tr><td>Belgium</td><td>2</td></tr><tr><td>Brazil</td><td>9</td></tr><tr><td>Canada</td><td>3</td></tr></table>"
                    },
                    "metadata": {}
                }
            ],
            "execution_count": 41
        },
        {
            "cell_type": "markdown",
            "source": [
                "# 💡💡Tip 15 -SELECT with HAVING Clause"
            ],
            "metadata": {
                "language": "sql",
                "azdata_cell_guid": "e326a614-37f1-4896-930d-339f389033b8"
            },
            "attachments": {}
        },
        {
            "cell_type": "markdown",
            "source": [
                "Explanation:\n",
                "\n",
                "This SQL query retrieves the top five products from the Products table, <span style=\"color: var(--vscode-foreground);\">summarizing the total price for each product, and labels this total as</span> <span style=\"color: var(--vscode-foreground);\">product_count. It groups the results by ProductID and filters to include</span> <span style=\"color: var(--vscode-foreground);\">only those products where the total price exceeds 10, using the HAVING clause.</span>\n",
                "\n",
                "Finally, the results are ordered in descending order based on product\\_count, <span style=\"color: var(--vscode-foreground);\">so the products with the highest total prices appear first.</span>"
            ],
            "metadata": {
                "language": "sql",
                "azdata_cell_guid": "53c0c3d7-9a59-4c08-9cfc-bbfb31a3dc5e"
            },
            "attachments": {}
        },
        {
            "cell_type": "markdown",
            "source": [
                "USE w3schools\\_tutor3;\n",
                "\n",
                "GO\n",
                "\n",
                "  \n",
                "\n",
                "SELECT TOP 5 ProductID\n",
                "\n",
                "      ,sum(Price) as product\\_count\n",
                "\n",
                "FROM dbo. Products\n",
                "\n",
                "GROUP BY ProductID\n",
                "\n",
                "HAVING sum(Price) \\> 10\n",
                "\n",
                "ORDER BY product\\_count DESC\n",
                "\n",
                ";"
            ],
            "metadata": {
                "language": "sql",
                "azdata_cell_guid": "b4442b2c-58ff-4a61-85c5-dbe1bdf46e9b"
            },
            "attachments": {}
        },
        {
            "cell_type": "code",
            "source": [
                "USE w3schools_tutor3;\r\n",
                "GO\r\n",
                "\r\n",
                "SELECT TOP 5 ProductID\r\n",
                "      ,sum(Price) as product_count\r\n",
                "FROM dbo. Products\r\n",
                "GROUP BY ProductID\r\n",
                "HAVING sum(Price) > 10\r\n",
                "ORDER BY product_count DESC\r\n",
                ";"
            ],
            "metadata": {
                "language": "sql",
                "azdata_cell_guid": "e3f04e9e-07de-4a8c-9729-6a11aeefd605"
            },
            "outputs": [
                {
                    "output_type": "display_data",
                    "data": {
                        "text/html": "Commands completed successfully."
                    },
                    "metadata": {}
                },
                {
                    "output_type": "display_data",
                    "data": {
                        "text/html": "(5 rows affected)"
                    },
                    "metadata": {}
                },
                {
                    "output_type": "display_data",
                    "data": {
                        "text/html": "Total execution time: 00:00:00.023"
                    },
                    "metadata": {}
                },
                {
                    "output_type": "execute_result",
                    "execution_count": 42,
                    "data": {
                        "application/vnd.dataresource+json": {
                            "schema": {
                                "fields": [
                                    {
                                        "name": "ProductID"
                                    },
                                    {
                                        "name": "product_count"
                                    }
                                ]
                            },
                            "data": [
                                {
                                    "ProductID": "38",
                                    "product_count": "263.50"
                                },
                                {
                                    "ProductID": "29",
                                    "product_count": "123.79"
                                },
                                {
                                    "ProductID": "9",
                                    "product_count": "97.00"
                                },
                                {
                                    "ProductID": "20",
                                    "product_count": "81.00"
                                },
                                {
                                    "ProductID": "18",
                                    "product_count": "62.50"
                                }
                            ]
                        },
                        "text/html": "<table><tr><th>ProductID</th><th>product_count</th></tr><tr><td>38</td><td>263.50</td></tr><tr><td>29</td><td>123.79</td></tr><tr><td>9</td><td>97.00</td></tr><tr><td>20</td><td>81.00</td></tr><tr><td>18</td><td>62.50</td></tr></table>"
                    },
                    "metadata": {}
                }
            ],
            "execution_count": 42
        },
        {
            "cell_type": "markdown",
            "source": [
                "# 💡💡Tip 16-SELECT with LIKE Statement( WildCat)"
            ],
            "metadata": {
                "language": "sql",
                "azdata_cell_guid": "1c463920-b773-47ff-813c-8a3c02850854"
            },
            "attachments": {}
        },
        {
            "cell_type": "markdown",
            "source": [
                "Explanation:\n",
                "\n",
                "The code \\`WHERE Country LIKE %USA% filters the results to include only those <span style=\"color: var(--vscode-foreground);\">records where the Country</span> column contains the substring \"USA\" anywhere within<span style=\"color: var(--vscode-foreground);\">it. The percent signs (%) act as wildcards, allowing for zero or more&nbsp;</span> <span style=\"color: var(--vscode-foreground);\">characters before and after \"USA.\"</span>"
            ],
            "metadata": {
                "language": "sql",
                "azdata_cell_guid": "2c6a8bdd-6f76-45a0-9430-a85ddb7d857e"
            },
            "attachments": {}
        },
        {
            "cell_type": "markdown",
            "source": [
                "USE w3schools\\_tutor3;\n",
                "\n",
                "GO\n",
                "\n",
                "  \n",
                "\n",
                "SELECT SupplierName\n",
                "\n",
                "      ,ContactName\n",
                "\n",
                "  ,Country\n",
                "\n",
                "FROM Suppliers\n",
                "\n",
                "WHERE Country LIKE '%USA%'\n",
                "\n",
                ";"
            ],
            "metadata": {
                "language": "sql",
                "azdata_cell_guid": "841b2355-f4af-4ca8-8460-d020fe94e2e8"
            },
            "attachments": {}
        },
        {
            "cell_type": "code",
            "source": [
                "USE w3schools_tutor3;\r\n",
                "GO\r\n",
                "\r\n",
                "SELECT SupplierName\r\n",
                "      ,ContactName\r\n",
                "\t  ,Country\r\n",
                "FROM Suppliers\r\n",
                "WHERE Country LIKE '%USA%'\r\n",
                ";"
            ],
            "metadata": {
                "language": "sql",
                "azdata_cell_guid": "2d042117-3726-4af4-92ec-8f2d20824a4b"
            },
            "outputs": [
                {
                    "output_type": "display_data",
                    "data": {
                        "text/html": "Commands completed successfully."
                    },
                    "metadata": {}
                },
                {
                    "output_type": "display_data",
                    "data": {
                        "text/html": "(4 rows affected)"
                    },
                    "metadata": {}
                },
                {
                    "output_type": "display_data",
                    "data": {
                        "text/html": "Total execution time: 00:00:00.026"
                    },
                    "metadata": {}
                },
                {
                    "output_type": "execute_result",
                    "execution_count": 43,
                    "data": {
                        "application/vnd.dataresource+json": {
                            "schema": {
                                "fields": [
                                    {
                                        "name": "SupplierName"
                                    },
                                    {
                                        "name": "ContactName"
                                    },
                                    {
                                        "name": "Country"
                                    }
                                ]
                            },
                            "data": [
                                {
                                    "SupplierName": "New Orleans Cajun Delights",
                                    "ContactName": "Shelley Burke",
                                    "Country": "USA"
                                },
                                {
                                    "SupplierName": "Grandma Kelly's Homestead",
                                    "ContactName": "Regina Murphy",
                                    "Country": "USA"
                                },
                                {
                                    "SupplierName": "Bigfoot Breweries",
                                    "ContactName": "Cheryl Saylor",
                                    "Country": "USA"
                                },
                                {
                                    "SupplierName": "New England Seafood Cannery",
                                    "ContactName": "Robb Merchant",
                                    "Country": "USA"
                                }
                            ]
                        },
                        "text/html": "<table><tr><th>SupplierName</th><th>ContactName</th><th>Country</th></tr><tr><td>New Orleans Cajun Delights</td><td>Shelley Burke</td><td>USA</td></tr><tr><td>Grandma Kelly&#39;s Homestead</td><td>Regina Murphy</td><td>USA</td></tr><tr><td>Bigfoot Breweries</td><td>Cheryl Saylor</td><td>USA</td></tr><tr><td>New England Seafood Cannery</td><td>Robb Merchant</td><td>USA</td></tr></table>"
                    },
                    "metadata": {}
                }
            ],
            "execution_count": 43
        },
        {
            "cell_type": "markdown",
            "source": [
                "# 💡💡💡Tip 17 -Top Spending Customers in 2023: Pre-and Post-Discount Analysis"
            ],
            "metadata": {
                "language": "sql",
                "azdata_cell_guid": "db513519-8176-4191-b9f1-c27fa0c43c06"
            },
            "attachments": {}
        },
        {
            "cell_type": "markdown",
            "source": [
                "Explanation:\n",
                "\n",
                "This SQL query is designed to analyze customer spending patterns by joining the Customers, <span style=\"color: var(--vscode-foreground);\">Orders, and OrderDetails tables. It retrieves detailed information about&nbsp;</span>   <span style=\"color: var(--vscode-foreground);\">customer purchases and calculates the total value of those purchases both&nbsp;</span>  <span style=\"color: var(--vscode-foreground);\">before and after applying any discounts. The query focuses specifically on&nbsp;</span>  <span style=\"color: var(--vscode-foreground);\">orders placed in the year 2023, providing an accurate view of customer activity&nbsp;</span>   <span style=\"color: var(--vscode-foreground);\">within this time frame. The results are grouped by each customer, offering insights</span> <span style=\"color: var(--vscode-foreground);\">into their overall spending.</span>\n",
                "\n",
                "The query calculates two key aggregates: the total value of orders without any discounts <span style=\"color: var(--vscode-foreground);\">(TotalsWithoutDiscount) and the total value after discounts (TotalsWithDiscount).&nbsp;</span> <span style=\"color: var(--vscode-foreground);\">Additionally, it filters the results to include only those customers whose total&nbsp;</span>  <span style=\"color: var(--vscode-foreground);\">post-discount spending exceeds 20,000, which helps focus on high-spending customers.&nbsp;</span>   <span style=\"color: var(--vscode-foreground);\">Finally, the results are ordered in descending order based on their total spending after&nbsp;</span>    <span style=\"color: var(--vscode-foreground);\">discounts, so the highest spenders appear at the top.</span>\n",
                "\n",
                "In a business intelligence setting, this query could be highly useful for identifying <span style=\"color: var(--vscode-foreground);\">VIP customers, analyzing the effectiveness of discounts, and preparing for loyalty&nbsp;</span> <span style=\"color: var(--vscode-foreground);\">programs or marketing campaigns. By understanding which customers contribute the most&nbsp;</span>  <span style=\"color: var(--vscode-foreground);\">to revenue, businesses can tailor their strategies to enhance customer retention and&nbsp;</span>   <span style=\"color: var(--vscode-foreground);\">reward high-value clients.</span>"
            ],
            "metadata": {
                "language": "sql",
                "azdata_cell_guid": "b384b00a-b566-4ed2-86b6-2c6a3efdc61b"
            },
            "attachments": {}
        },
        {
            "cell_type": "markdown",
            "source": [
                "USE Northwind\\_2023;\n",
                "\n",
                "GO\n",
                "\n",
                "  \n",
                "\n",
                "SELECT cus.CustomerID\n",
                "\n",
                "    ,cus.CompanyName,\n",
                "\n",
                "    SUM(od.UnitPrice \\* od.Quantity) as TotalsWithoutDiscount,\n",
                "\n",
                "    SUM(od.UnitPrice \\* od.Quantity \\* (1 - od.Discount)) as TotalsWithDiscount\n",
                "\n",
                "FROM dbo.Customers as cus\n",
                "\n",
                "INNER JOIN dbo.Orders o \n",
                "\n",
                "ON cus.CustomerID = o.CustomerID\n",
                "\n",
                "INNER JOIN OrderDetails od \n",
                "\n",
                "ON o.OrderID = od.OrderID\n",
                "\n",
                "WHERE YEAR(o.OrderDate) = 2023\n",
                "\n",
                "GROUP BY cus.CustomerID, cus.CompanyName\n",
                "\n",
                "HAVING SUM(od.UnitPrice \\* od.Quantity \\* (1 - od.Discount)) \\>= 20000\n",
                "\n",
                "ORDER BY TotalsWithDiscount DESC\n",
                "\n",
                ";"
            ],
            "metadata": {
                "language": "sql",
                "azdata_cell_guid": "8212a18c-c77a-46c0-b67d-1c74218fdb19"
            },
            "attachments": {}
        },
        {
            "cell_type": "code",
            "source": [
                "USE Northwind_2023;\r\n",
                "GO\r\n",
                "\r\n",
                "SELECT cus.CustomerID\r\n",
                "    ,cus.CompanyName,\r\n",
                "    SUM(od.UnitPrice * od.Quantity) as TotalsWithoutDiscount,\r\n",
                "    SUM(od.UnitPrice * od.Quantity * (1 - od.Discount)) as TotalsWithDiscount\r\n",
                "FROM dbo.Customers as cus\r\n",
                "INNER JOIN dbo.Orders o \r\n",
                "\tON cus.CustomerID = o.CustomerID\r\n",
                "INNER JOIN OrderDetails od \r\n",
                "\tON o.OrderID = od.OrderID\r\n",
                "WHERE YEAR(o.OrderDate) = 2023\r\n",
                "GROUP BY cus.CustomerID, cus.CompanyName\r\n",
                "HAVING SUM(od.UnitPrice * od.Quantity * (1 - od.Discount)) >= 20000\r\n",
                "ORDER BY TotalsWithDiscount DESC\r\n",
                ";\r\n",
                ""
            ],
            "metadata": {
                "language": "sql",
                "azdata_cell_guid": "8dd5c40a-88cf-489c-a846-4a206dfef302"
            },
            "outputs": [
                {
                    "output_type": "display_data",
                    "data": {
                        "text/html": "Commands completed successfully."
                    },
                    "metadata": {}
                },
                {
                    "output_type": "display_data",
                    "data": {
                        "text/html": "(6 rows affected)"
                    },
                    "metadata": {}
                },
                {
                    "output_type": "display_data",
                    "data": {
                        "text/html": "Total execution time: 00:00:00.043"
                    },
                    "metadata": {}
                },
                {
                    "output_type": "execute_result",
                    "execution_count": 44,
                    "data": {
                        "application/vnd.dataresource+json": {
                            "schema": {
                                "fields": [
                                    {
                                        "name": "CustomerID"
                                    },
                                    {
                                        "name": "CompanyName"
                                    },
                                    {
                                        "name": "TotalsWithoutDiscount"
                                    },
                                    {
                                        "name": "TotalsWithDiscount"
                                    }
                                ]
                            },
                            "data": [
                                {
                                    "CustomerID": "ERNSH",
                                    "CompanyName": "Ernst Handel",
                                    "TotalsWithoutDiscount": "42598.90",
                                    "TotalsWithDiscount": "41210.65002441406"
                                },
                                {
                                    "CustomerID": "QUICK",
                                    "CompanyName": "QUICK-Stop",
                                    "TotalsWithoutDiscount": "40526.99",
                                    "TotalsWithDiscount": "37217.315002441406"
                                },
                                {
                                    "CustomerID": "SAVEA",
                                    "CompanyName": "Save-a-lot Markets",
                                    "TotalsWithoutDiscount": "42806.25",
                                    "TotalsWithDiscount": "36310.10977935791"
                                },
                                {
                                    "CustomerID": "HANAR",
                                    "CompanyName": "Hanari Carnes",
                                    "TotalsWithoutDiscount": "24238.05",
                                    "TotalsWithDiscount": "23821.199989318848"
                                },
                                {
                                    "CustomerID": "RATTC",
                                    "CompanyName": "Rattlesnake Canyon Grocery",
                                    "TotalsWithoutDiscount": "21725.60",
                                    "TotalsWithDiscount": "21238.270441055298"
                                },
                                {
                                    "CustomerID": "HUNGO",
                                    "CompanyName": "Hungry Owl All-Night Grocers",
                                    "TotalsWithoutDiscount": "22796.34",
                                    "TotalsWithDiscount": "20402.11993408203"
                                }
                            ]
                        },
                        "text/html": "<table><tr><th>CustomerID</th><th>CompanyName</th><th>TotalsWithoutDiscount</th><th>TotalsWithDiscount</th></tr><tr><td>ERNSH</td><td>Ernst Handel</td><td>42598.90</td><td>41210.65002441406</td></tr><tr><td>QUICK</td><td>QUICK-Stop</td><td>40526.99</td><td>37217.315002441406</td></tr><tr><td>SAVEA</td><td>Save-a-lot Markets</td><td>42806.25</td><td>36310.10977935791</td></tr><tr><td>HANAR</td><td>Hanari Carnes</td><td>24238.05</td><td>23821.199989318848</td></tr><tr><td>RATTC</td><td>Rattlesnake Canyon Grocery</td><td>21725.60</td><td>21238.270441055298</td></tr><tr><td>HUNGO</td><td>Hungry Owl All-Night Grocers</td><td>22796.34</td><td>20402.11993408203</td></tr></table>"
                    },
                    "metadata": {}
                }
            ],
            "execution_count": 44
        },
        {
            "cell_type": "markdown",
            "source": [
                "# 💡💡Tip 18- Counting and Concatinating"
            ],
            "metadata": {
                "language": "sql",
                "azdata_cell_guid": "d8c0ce53-4b29-4aea-9c14-50b82006d7fc"
            },
            "attachments": {}
        },
        {
            "cell_type": "markdown",
            "source": [
                "Explanation:  \n",
                "\n",
                "This query counts the number of orders (OrderCount) each employee has handled. <span style=\"color: var(--vscode-foreground);\">It joins the Employees table (emp) with the orders&nbsp;table (ord) &nbsp;on their EmployeeID</span>  <span style=\"color: var(--vscode-foreground);\">. The concat( FirstName, '&nbsp; ', LastName)&nbsp;function combines the first&nbsp;</span> <span style=\"color: var(--vscode-foreground);\">and last names to display the full name of each employee. The results are grouped&nbsp;</span> <span style=\"color: var(--vscode-foreground);\">by employee name, showing the total number of orders each employee processed.&nbsp;</span> <span style=\"color: var(--vscode-foreground);\">Finally, the output is ordered by OrderCount in descending order, with the employees</span> <span style=\"color: var(--vscode-foreground);\">who handled the most orders appearing at the top.</span>"
            ],
            "metadata": {
                "language": "sql",
                "azdata_cell_guid": "427f0ebe-f938-48ae-8302-e8c0b32cd43d"
            },
            "attachments": {}
        },
        {
            "cell_type": "markdown",
            "source": [
                "USE Northwind\\_2023;\n",
                "\n",
                "GO\n",
                "\n",
                "  \n",
                "\n",
                "Select count(ord.EmployeeID) as 'OrderCount'\n",
                "\n",
                "  ,concat(FirstName, ' ' , LastName) as 'Employee'\n",
                "\n",
                "FROM dbo.Employees as emp \n",
                "\n",
                "    INNER JOIN  dbo.Orders as ord \n",
                "\n",
                "    ON emp.EmployeeID = ord.EmployeeID\n",
                "\n",
                "GROUP BY concat(FirstName, ' ' , LastName)\n",
                "\n",
                "ORDER BY OrderCount DESC\n",
                "\n",
                ";"
            ],
            "metadata": {
                "language": "sql",
                "azdata_cell_guid": "c4d25862-3659-40d7-bfc7-8907d4550422"
            },
            "attachments": {}
        },
        {
            "cell_type": "code",
            "source": [
                "USE Northwind_2023;\r\n",
                "GO\r\n",
                "\r\n",
                "Select count(ord.EmployeeID) as 'OrderCount'\r\n",
                "\t  ,concat(FirstName, ' ' , LastName) as 'Employee'\r\n",
                "FROM dbo.Employees as emp \r\n",
                "    INNER JOIN  dbo.Orders as ord \r\n",
                "    ON emp.EmployeeID = ord.EmployeeID\r\n",
                "GROUP BY concat(FirstName, ' ' , LastName)\r\n",
                "ORDER BY OrderCount DESC\r\n",
                ";\r\n",
                ""
            ],
            "metadata": {
                "language": "sql",
                "azdata_cell_guid": "2b93ca76-4236-46a6-9946-e48691be2ad2"
            },
            "outputs": [
                {
                    "output_type": "display_data",
                    "data": {
                        "text/html": "Commands completed successfully."
                    },
                    "metadata": {}
                },
                {
                    "output_type": "display_data",
                    "data": {
                        "text/html": "(9 rows affected)"
                    },
                    "metadata": {}
                },
                {
                    "output_type": "display_data",
                    "data": {
                        "text/html": "Total execution time: 00:00:00.027"
                    },
                    "metadata": {}
                },
                {
                    "output_type": "execute_result",
                    "execution_count": 45,
                    "data": {
                        "application/vnd.dataresource+json": {
                            "schema": {
                                "fields": [
                                    {
                                        "name": "OrderCount"
                                    },
                                    {
                                        "name": "Employee"
                                    }
                                ]
                            },
                            "data": [
                                {
                                    "OrderCount": "156",
                                    "Employee": "Margaret Peacock"
                                },
                                {
                                    "OrderCount": "127",
                                    "Employee": "Janet Leverling"
                                },
                                {
                                    "OrderCount": "123",
                                    "Employee": "Nancy Davolio"
                                },
                                {
                                    "OrderCount": "104",
                                    "Employee": "Laura Callahan"
                                },
                                {
                                    "OrderCount": "96",
                                    "Employee": "Andrew Fuller"
                                },
                                {
                                    "OrderCount": "72",
                                    "Employee": "Robert King"
                                },
                                {
                                    "OrderCount": "67",
                                    "Employee": "Michael Suyama"
                                },
                                {
                                    "OrderCount": "43",
                                    "Employee": "Anne Dodsworth"
                                },
                                {
                                    "OrderCount": "42",
                                    "Employee": "Steven Buchanan"
                                }
                            ]
                        },
                        "text/html": "<table><tr><th>OrderCount</th><th>Employee</th></tr><tr><td>156</td><td>Margaret Peacock</td></tr><tr><td>127</td><td>Janet Leverling</td></tr><tr><td>123</td><td>Nancy Davolio</td></tr><tr><td>104</td><td>Laura Callahan</td></tr><tr><td>96</td><td>Andrew Fuller</td></tr><tr><td>72</td><td>Robert King</td></tr><tr><td>67</td><td>Michael Suyama</td></tr><tr><td>43</td><td>Anne Dodsworth</td></tr><tr><td>42</td><td>Steven Buchanan</td></tr></table>"
                    },
                    "metadata": {}
                }
            ],
            "execution_count": 45
        },
        {
            "cell_type": "markdown",
            "source": [
                "# 💡💡Tip 19- Selecting Top with Ties"
            ],
            "metadata": {
                "language": "sql",
                "azdata_cell_guid": "cc9b5d4f-d98d-4244-b47d-b9d9069f9133"
            },
            "attachments": {}
        },
        {
            "cell_type": "markdown",
            "source": [
                "Explanation:\n",
                "\n",
                "This SQL query retrieves the top 5 most expensive products from the \\`Products\\` table, <span style=\"color: var(--vscode-foreground);\">displaying the ProductName and UnitPrice. The Order BY UnitPrice DESC arranges</span> <span style=\"color: var(--vscode-foreground);\">the products in descending order based on their price. The use of TOP 5 WITH TIES&nbsp;</span> <span style=\"color: var(--vscode-foreground);\">ensures that if multiple products have the same price as the 5th one, they are all included,</span><span style=\"color: var(--vscode-foreground);\">potentially returning more than 5 products if there are price ties.&nbsp;</span>  <span style=\"color: var(--vscode-foreground);\">This query is useful for identifying the highest-priced products.</span>"
            ],
            "metadata": {
                "language": "sql",
                "azdata_cell_guid": "d3db240c-a0d6-46f2-b853-0a40e654cb91"
            },
            "attachments": {}
        },
        {
            "cell_type": "markdown",
            "source": [
                "USE Northwind\\_2023;\n",
                "\n",
                "GO\n",
                "\n",
                "  \n",
                "\n",
                "SELECT Top 5 with Ties ProductName\n",
                "\n",
                "         ,UnitPrice\n",
                "\n",
                "FROM dbo.Products\n",
                "\n",
                "ORDER BY UnitPrice DESC\n",
                "\n",
                ";"
            ],
            "metadata": {
                "language": "sql",
                "azdata_cell_guid": "bcea406c-6033-430b-8f16-7bbc89bc91ff"
            },
            "attachments": {}
        },
        {
            "cell_type": "code",
            "source": [
                "USE Northwind_2023;\r\n",
                "GO\r\n",
                "\r\n",
                "SELECT Top 5 with Ties ProductName\r\n",
                "         ,UnitPrice\r\n",
                "FROM dbo.Products\r\n",
                "ORDER BY UnitPrice DESC\r\n",
                ";"
            ],
            "metadata": {
                "language": "sql",
                "azdata_cell_guid": "25e43872-77b6-482a-bc33-c5370dac3772"
            },
            "outputs": [
                {
                    "output_type": "display_data",
                    "data": {
                        "text/html": "Commands completed successfully."
                    },
                    "metadata": {}
                },
                {
                    "output_type": "display_data",
                    "data": {
                        "text/html": "(5 rows affected)"
                    },
                    "metadata": {}
                },
                {
                    "output_type": "display_data",
                    "data": {
                        "text/html": "Total execution time: 00:00:00.021"
                    },
                    "metadata": {}
                },
                {
                    "output_type": "execute_result",
                    "execution_count": 46,
                    "data": {
                        "application/vnd.dataresource+json": {
                            "schema": {
                                "fields": [
                                    {
                                        "name": "ProductName"
                                    },
                                    {
                                        "name": "UnitPrice"
                                    }
                                ]
                            },
                            "data": [
                                {
                                    "ProductName": "Côte de Blaye",
                                    "UnitPrice": "263.50"
                                },
                                {
                                    "ProductName": "Thüringer Rostbratwurst",
                                    "UnitPrice": "123.79"
                                },
                                {
                                    "ProductName": "Mishi Kobe Niku",
                                    "UnitPrice": "97.00"
                                },
                                {
                                    "ProductName": "Sir Rodney's Marmalade",
                                    "UnitPrice": "81.00"
                                },
                                {
                                    "ProductName": "Carnarvon Tigers",
                                    "UnitPrice": "62.50"
                                }
                            ]
                        },
                        "text/html": "<table><tr><th>ProductName</th><th>UnitPrice</th></tr><tr><td>Côte de Blaye</td><td>263.50</td></tr><tr><td>Thüringer Rostbratwurst</td><td>123.79</td></tr><tr><td>Mishi Kobe Niku</td><td>97.00</td></tr><tr><td>Sir Rodney&#39;s Marmalade</td><td>81.00</td></tr><tr><td>Carnarvon Tigers</td><td>62.50</td></tr></table>"
                    },
                    "metadata": {}
                }
            ],
            "execution_count": 46
        },
        {
            "cell_type": "markdown",
            "source": [
                "# 💡💡💡Tip 20 - Pivoted Query"
            ],
            "metadata": {
                "language": "sql",
                "azdata_cell_guid": "ab48c963-d4be-4eb3-b664-881df15f766e"
            },
            "attachments": {}
        },
        {
            "cell_type": "markdown",
            "source": [
                "Explanation: \n",
                "\n",
                "This query calculates and pivots the  average list price of products based <span style=\"color: var(--vscode-foreground);\">on their product lines (e.g., Mountain, Road, Standard, and Touring).&nbsp;</span> <span style=\"color: var(--vscode-foreground);\">It first selects product data from DimProduct,&nbsp;categorizing product lines</span> <span style=\"color: var(--vscode-foreground);\">using a CASE&nbsp;statement to map codes (R,M,T,S) to their corresponding</span> <span style=\"color: var(--vscode-foreground);\">product names. Then, using the PIVOT&nbsp;function, it calculates the average ListPrice&nbsp;</span> <span style=\"color: var(--vscode-foreground);\">for each product line and displays them as separate columns(Mountain,Road,Standard,Touring) </span> <span style=\"color: var(--vscode-foreground);\">. The output allows for a quick comparison of average prices across these product&nbsp;</span> <span style=\"color: var(--vscode-foreground);\">lines in a compact table format.</span>"
            ],
            "metadata": {
                "language": "sql",
                "azdata_cell_guid": "a058a1f6-8184-4370-9832-da728294d722"
            },
            "attachments": {}
        },
        {
            "cell_type": "markdown",
            "source": [
                "USE AdventureWorksDW2022;\n",
                "\n",
                "GO\n",
                "\n",
                "  \n",
                "\n",
                "SELECT 'Avg List Price ' as 'ProductLine'\n",
                "\n",
                "       ,Mountain\n",
                "\n",
                "   ,Road\n",
                "\n",
                "   ,\\[Standard\\]\n",
                "\n",
                "   ,Touring\n",
                "\n",
                "FROM (SELECT CASE ProductLine\n",
                "\n",
                "        WHEN 'R' THEN 'Road'\n",
                "\n",
                "WHEN 'M' THEN 'Mountain'\n",
                "\n",
                "WHEN 'T' THEN 'Touring'\n",
                "\n",
                "        WHEN 'S' THEN 'Standard'\n",
                "\n",
                "    END as productLine\n",
                "\n",
                ",ListPrice\n",
                "\n",
                "   FROM dbo.DimProduct WHERE ProductLine is NOT NULL) as SourceDate\n",
                "\n",
                "PIVOT(AVG(ListPrice) FOR ProductLine IN (Mountain, Road , \\[Standard\\], Touring)) as PivotTable\n",
                "\n",
                ";"
            ],
            "metadata": {
                "language": "sql",
                "azdata_cell_guid": "a7c06997-b792-4360-8e92-f7606e806cb6"
            },
            "attachments": {}
        },
        {
            "cell_type": "code",
            "source": [
                "USE AdventureWorksDW2022;\r\n",
                "GO\r\n",
                "\r\n",
                "SELECT 'Avg List Price ' as 'ProductLine'\r\n",
                "       ,Mountain\r\n",
                "\t   ,Road\r\n",
                "\t   ,[Standard]\r\n",
                "\t   ,Touring\r\n",
                "FROM (SELECT CASE ProductLine\r\n",
                "        WHEN 'R' THEN 'Road'\r\n",
                "\t\tWHEN 'M' THEN 'Mountain'\r\n",
                "\t\tWHEN 'T' THEN 'Touring'\r\n",
                "        WHEN 'S' THEN 'Standard'\r\n",
                "    END as productLine\r\n",
                "\t,ListPrice\r\n",
                "   FROM dbo.DimProduct WHERE ProductLine is NOT NULL) as SourceDate\r\n",
                "PIVOT(AVG(ListPrice) FOR ProductLine IN (Mountain, Road , [Standard], Touring)) as PivotTable\r\n",
                ";"
            ],
            "metadata": {
                "language": "sql",
                "azdata_cell_guid": "f0da16a5-cb3e-4bbe-b5f7-195e35d64e08"
            },
            "outputs": [
                {
                    "output_type": "display_data",
                    "data": {
                        "text/html": "Commands completed successfully."
                    },
                    "metadata": {}
                },
                {
                    "output_type": "display_data",
                    "data": {
                        "text/html": "(1 row affected)"
                    },
                    "metadata": {}
                },
                {
                    "output_type": "display_data",
                    "data": {
                        "text/html": "Total execution time: 00:00:00.040"
                    },
                    "metadata": {}
                },
                {
                    "output_type": "execute_result",
                    "execution_count": 47,
                    "data": {
                        "application/vnd.dataresource+json": {
                            "schema": {
                                "fields": [
                                    {
                                        "name": "ProductLine"
                                    },
                                    {
                                        "name": "Mountain"
                                    },
                                    {
                                        "name": "Road"
                                    },
                                    {
                                        "name": "Standard"
                                    },
                                    {
                                        "name": "Touring"
                                    }
                                ]
                            },
                            "data": [
                                {
                                    "ProductLine": "Avg List Price ",
                                    "Mountain": "914.456",
                                    "Road": "902.3443",
                                    "Standard": "45.1536",
                                    "Touring": "840.7621"
                                }
                            ]
                        },
                        "text/html": "<table><tr><th>ProductLine</th><th>Mountain</th><th>Road</th><th>Standard</th><th>Touring</th></tr><tr><td>Avg List Price </td><td>914.456</td><td>902.3443</td><td>45.1536</td><td>840.7621</td></tr></table>"
                    },
                    "metadata": {}
                }
            ],
            "execution_count": 47
        },
        {
            "cell_type": "markdown",
            "source": [
                "# 💡💡💡Tip 21 - Unpivoted Query"
            ],
            "metadata": {
                "language": "sql",
                "azdata_cell_guid": "708c785b-b960-41f9-b02a-1dbbcde8073c"
            },
            "attachments": {}
        },
        {
            "cell_type": "markdown",
            "source": [
                "This is important for our BI work\n",
                "\n",
                "This SQL query uses the \\`UNPIVOT\\` operator to transform columns into <span style=\"color: var(--vscode-foreground);\">rows from the vAvgPricePivot&nbsp;view. The original columns (Mountain,Road,Standard and Touring)&nbsp;</span>  <span style=\"color: var(--vscode-foreground);\">represent different product types, and their values (average list prices)&nbsp;</span> <span style=\"color: var(--vscode-foreground);\">are unpivoted into two columns: ProductType&nbsp;&nbsp;and AvgListPrice.&nbsp;This results in each</span> <span style=\"color: var(--vscode-foreground);\">product type and its corresponding average price being listed in separate rows, rather</span> <span style=\"color: var(--vscode-foreground);\">than as columns. This format is useful for reporting or analysis where a vertical&nbsp;</span> <span style=\"color: var(--vscode-foreground);\">(row-based) representation of data is needed.</span>"
            ],
            "metadata": {
                "language": "sql",
                "azdata_cell_guid": "a3e59314-558b-4073-859f-7c660139acd2"
            },
            "attachments": {}
        },
        {
            "cell_type": "markdown",
            "source": [
                "USE AdventureWorksDW2022;\n",
                "\n",
                "GO\n",
                "\n",
                "  \n",
                "\n",
                "SELECT\n",
                "\n",
                "     ProductType\n",
                "\n",
                ",AvgListPrice\n",
                "\n",
                "FROM \n",
                "\n",
                "dbo.vAvgPricePivot\n",
                "\n",
                "UNPIVOT\n",
                "\n",
                "( \n",
                "\n",
                "AvgListPrice FOR ProductType IN (Mountain,Road, Standard,Touring)\n",
                "\n",
                ") AS UnpivotedData\n",
                "\n",
                ";"
            ],
            "metadata": {
                "language": "sql",
                "azdata_cell_guid": "a637a290-5408-4204-805c-0bbe36212c3a"
            },
            "attachments": {}
        },
        {
            "cell_type": "code",
            "source": [
                "USE AdventureWorksDW2022;\r\n",
                "GO\r\n",
                "\r\n",
                "SELECT\r\n",
                "     ProductType\r\n",
                "\t,AvgListPrice\r\n",
                "FROM \r\n",
                "dbo.vAvgPricePivot\r\n",
                "UNPIVOT\r\n",
                "( \r\n",
                "AvgListPrice FOR ProductType IN (Mountain,Road, Standard,Touring)\r\n",
                ") AS UnpivotedData\r\n",
                ";"
            ],
            "metadata": {
                "language": "sql",
                "azdata_cell_guid": "370b2df1-6017-4305-9be1-e0052133319e"
            },
            "outputs": [
                {
                    "output_type": "display_data",
                    "data": {
                        "text/html": "Commands completed successfully."
                    },
                    "metadata": {}
                },
                {
                    "output_type": "display_data",
                    "data": {
                        "text/html": "(4 rows affected)"
                    },
                    "metadata": {}
                },
                {
                    "output_type": "display_data",
                    "data": {
                        "text/html": "Total execution time: 00:00:00.026"
                    },
                    "metadata": {}
                },
                {
                    "output_type": "execute_result",
                    "execution_count": 48,
                    "data": {
                        "application/vnd.dataresource+json": {
                            "schema": {
                                "fields": [
                                    {
                                        "name": "ProductType"
                                    },
                                    {
                                        "name": "AvgListPrice"
                                    }
                                ]
                            },
                            "data": [
                                {
                                    "ProductType": "Mountain",
                                    "AvgListPrice": "914.456"
                                },
                                {
                                    "ProductType": "Road",
                                    "AvgListPrice": "902.3443"
                                },
                                {
                                    "ProductType": "Standard",
                                    "AvgListPrice": "45.1536"
                                },
                                {
                                    "ProductType": "Touring",
                                    "AvgListPrice": "840.7621"
                                }
                            ]
                        },
                        "text/html": "<table><tr><th>ProductType</th><th>AvgListPrice</th></tr><tr><td>Mountain</td><td>914.456</td></tr><tr><td>Road</td><td>902.3443</td></tr><tr><td>Standard</td><td>45.1536</td></tr><tr><td>Touring</td><td>840.7621</td></tr></table>"
                    },
                    "metadata": {}
                }
            ],
            "execution_count": 48
        },
        {
            "cell_type": "markdown",
            "source": [
                "# 💡💡💡Tip 22-CASE STATEMENT FOR AllRushing Hours"
            ],
            "metadata": {
                "language": "sql",
                "azdata_cell_guid": "bf5fcdbd-f778-4a59-a4ae-52544bc90030"
            },
            "attachments": {}
        },
        {
            "cell_type": "markdown",
            "source": [
                "Explanation: \n",
                "\n",
                "This SQL query analyzes collision data from the \\`stg.Collisions\\` table by extracting <span style=\"color: var(--vscode-foreground);\">various time-related attributes and categorizing them into rush hour indicators.&nbsp;</span> <span style=\"color: var(--vscode-foreground);\">The query selects the time , day_of_week ( with 1 respresenting Sunday and 7 respresenting Saturday)</span> ,<span style=\"color: var(--vscode-foreground);\">and the hour extracted from the time field.</span>\n",
                "\n",
                "It defines three columns related to rush hours:\n",
                "\n",
                "1.RushHourAll: A general indicator of rush hours, which is set to 0 for weekends (Sunday and Saturday) <span style=\"color: var(--vscode-foreground);\">and 1 for weekdays during specified peak hours (7-9 AM and 3-5 PM), otherwise set to 0.</span>\n",
                "\n",
                "2.RushHourAM: This indicator marks the morning rush hours, set to 1 during the early morning peak hours <span style=\"color: var(--vscode-foreground);\">(7-9 AM) on weekdays, and 0 on weekends or outside those hours.</span>\n",
                "\n",
                "3.RushHourPM: This indicator identifies the evening rush hours, set to 1 during the late afternoon <span style=\"color: var(--vscode-foreground);\">peak hours (3-5 PM) on weekdays, and 0 on weekends or outside those hours.</span>\n",
                "\n",
                "Overall, the query provides a structured way to assess collision data relative to time and rush hour periods,<span style=\"color: var(--vscode-foreground);\">facilitating further analysis of collision patterns based on time.</span>"
            ],
            "metadata": {
                "language": "sql",
                "azdata_cell_guid": "eb709d15-9fd4-4404-a237-53b2b266976e"
            },
            "attachments": {}
        },
        {
            "cell_type": "markdown",
            "source": [
                "USE UK\\_Accidents\\_I\n",
                "\n",
                "GO\n",
                "\n",
                "  \n",
                "\n",
                "SELECT Top 7 \\[time\\]\n",
                "\n",
                "        ,day\\_of\\_week --1 is Sun , 7 is Sat\n",
                "\n",
                "       ,DATEPART(hh,time) as 'Hour'\n",
                "\n",
                "   ,'Rush\\_Hour\\_All' as 'RushHourAll'\n",
                "\n",
                "   ,CASE\n",
                "\n",
                "     WHEN day\\_of\\_week in (1,7) THEN  0\n",
                "\n",
                "WHEN DATEPART(hh,time) in (7,8,9,15,16,17) THEN 1\n",
                "\n",
                "    ELSE 0\n",
                "\n",
                "  END  as 'RushHourAll'\n",
                "\n",
                "   ,CASE\n",
                "\n",
                "     WHEN day\\_of\\_week in (1,7) THEN  0\n",
                "\n",
                "WHEN DATEPART(hh,time) in (7,8,9) THEN 1\n",
                "\n",
                "    ELSE 0\n",
                "\n",
                "  END  as 'RushHourAM'\n",
                "\n",
                "   ,CASE\n",
                "\n",
                "     WHEN day\\_of\\_week in (1,7) THEN  0\n",
                "\n",
                "WHEN DATEPART(hh,time) in (15,16,17) THEN 1\n",
                "\n",
                "    ELSE 0\n",
                "\n",
                "    END  as 'RushHourPM'\n",
                "\n",
                "FROM stg.Collisions\n",
                "\n",
                ";"
            ],
            "metadata": {
                "language": "sql",
                "azdata_cell_guid": "25918c09-7e21-43a7-9f3a-bc6acc59b575"
            },
            "attachments": {}
        },
        {
            "cell_type": "code",
            "source": [
                "USE UK_Accidents_I\r\n",
                "GO\r\n",
                "\r\n",
                "SELECT Top 7 [time]\r\n",
                "        ,day_of_week --1 is Sun , 7 is Sat\r\n",
                "       ,DATEPART(hh,time) as 'Hour'\r\n",
                "\t   ,'Rush_Hour_All' as 'RushHourAll'\r\n",
                "\t   ,CASE\r\n",
                "\t     WHEN day_of_week in (1,7) THEN  0\r\n",
                "\t\t WHEN DATEPART(hh,time) in (7,8,9,15,16,17) THEN 1\r\n",
                "\t    ELSE 0\r\n",
                "\t  END  as 'RushHourAll'\r\n",
                "\t   ,CASE\r\n",
                "\t     WHEN day_of_week in (1,7) THEN  0\r\n",
                "\t\t WHEN DATEPART(hh,time) in (7,8,9) THEN 1\r\n",
                "\t    ELSE 0\r\n",
                "\t  END  as 'RushHourAM'\r\n",
                "   ,CASE\r\n",
                "\t     WHEN day_of_week in (1,7) THEN  0\r\n",
                "\t\t WHEN DATEPART(hh,time) in (15,16,17) THEN 1\r\n",
                "\t    ELSE 0\r\n",
                "    END  as 'RushHourPM'\r\n",
                "FROM stg.Collisions\r\n",
                ";"
            ],
            "metadata": {
                "language": "sql",
                "azdata_cell_guid": "7347418a-43ae-45fb-8f0c-f8436995fcab"
            },
            "outputs": [
                {
                    "output_type": "display_data",
                    "data": {
                        "text/html": "Commands completed successfully."
                    },
                    "metadata": {}
                },
                {
                    "output_type": "display_data",
                    "data": {
                        "text/html": "(7 rows affected)"
                    },
                    "metadata": {}
                },
                {
                    "output_type": "display_data",
                    "data": {
                        "text/html": "Total execution time: 00:00:00.232"
                    },
                    "metadata": {}
                },
                {
                    "output_type": "execute_result",
                    "metadata": {},
                    "execution_count": 2,
                    "data": {
                        "application/vnd.dataresource+json": {
                            "schema": {
                                "fields": [
                                    {
                                        "name": "time"
                                    },
                                    {
                                        "name": "day_of_week"
                                    },
                                    {
                                        "name": "Hour"
                                    },
                                    {
                                        "name": "RushHourAll"
                                    },
                                    {
                                        "name": "RushHourAll"
                                    },
                                    {
                                        "name": "RushHourAM"
                                    },
                                    {
                                        "name": "RushHourPM"
                                    }
                                ]
                            },
                            "data": [
                                {
                                    "time": "13:00:00",
                                    "day_of_week": "5",
                                    "Hour": "13",
                                    "RushHourAll": "0",
                                    "RushHourAM": "0",
                                    "RushHourPM": "0"
                                },
                                {
                                    "time": "11:00:00",
                                    "day_of_week": "5",
                                    "Hour": "11",
                                    "RushHourAll": "0",
                                    "RushHourAM": "0",
                                    "RushHourPM": "0"
                                },
                                {
                                    "time": "18:27:00",
                                    "day_of_week": "5",
                                    "Hour": "18",
                                    "RushHourAll": "0",
                                    "RushHourAM": "0",
                                    "RushHourPM": "0"
                                },
                                {
                                    "time": "07:38:00",
                                    "day_of_week": "5",
                                    "Hour": "7",
                                    "RushHourAll": "1",
                                    "RushHourAM": "1",
                                    "RushHourPM": "0"
                                },
                                {
                                    "time": "06:50:00",
                                    "day_of_week": "5",
                                    "Hour": "6",
                                    "RushHourAll": "0",
                                    "RushHourAM": "0",
                                    "RushHourPM": "0"
                                },
                                {
                                    "time": "17:25:00",
                                    "day_of_week": "5",
                                    "Hour": "17",
                                    "RushHourAll": "1",
                                    "RushHourAM": "0",
                                    "RushHourPM": "1"
                                },
                                {
                                    "time": "12:05:00",
                                    "day_of_week": "5",
                                    "Hour": "12",
                                    "RushHourAll": "0",
                                    "RushHourAM": "0",
                                    "RushHourPM": "0"
                                }
                            ]
                        },
                        "text/html": [
                            "<table>",
                            "<tr><th>time</th><th>day_of_week</th><th>Hour</th><th>RushHourAll</th><th>RushHourAll</th><th>RushHourAM</th><th>RushHourPM</th></tr>",
                            "<tr><td>13:00:00</td><td>5</td><td>13</td><td>Rush_Hour_All</td><td>0</td><td>0</td><td>0</td></tr>",
                            "<tr><td>11:00:00</td><td>5</td><td>11</td><td>Rush_Hour_All</td><td>0</td><td>0</td><td>0</td></tr>",
                            "<tr><td>18:27:00</td><td>5</td><td>18</td><td>Rush_Hour_All</td><td>0</td><td>0</td><td>0</td></tr>",
                            "<tr><td>07:38:00</td><td>5</td><td>7</td><td>Rush_Hour_All</td><td>1</td><td>1</td><td>0</td></tr>",
                            "<tr><td>06:50:00</td><td>5</td><td>6</td><td>Rush_Hour_All</td><td>0</td><td>0</td><td>0</td></tr>",
                            "<tr><td>17:25:00</td><td>5</td><td>17</td><td>Rush_Hour_All</td><td>1</td><td>0</td><td>1</td></tr>",
                            "<tr><td>12:05:00</td><td>5</td><td>12</td><td>Rush_Hour_All</td><td>0</td><td>0</td><td>0</td></tr>",
                            "</table>"
                        ]
                    }
                }
            ],
            "execution_count": 2
        },
        {
            "cell_type": "markdown",
            "source": [
                "# 💡💡💡Tip 23- UNION ALL"
            ],
            "metadata": {
                "azdata_cell_guid": "429f8958-e11e-4d85-be30-4b7a54e928aa"
            },
            "attachments": {}
        },
        {
            "cell_type": "markdown",
            "source": [
                "<span style=\"color: var(--vscode-foreground);\">Explanation:&nbsp;</span>   \n",
                "\n",
                "This SQL code consists of two parts that retrieve and classify <span style=\"color: var(--vscode-foreground);\">vehicle-related data from a database, specifically focusing on accidents&nbsp;</span> <span style=\"color: var(--vscode-foreground);\">and casualties.</span>\n",
                "\n",
                "1\\. The first SELECT statement joins the Vehicles and Casualties tables <span style=\"color: var(--vscode-foreground);\">to count the number of casualties associated with each vehicle involved in&nbsp;</span> <span style=\"color: var(--vscode-foreground);\">accidents, categorizing the count into labels like 'None', 'Single', 'Multiple',</span><span style=\"color: var(--vscode-foreground);\">etc., and groups the results by various vehicle attributes.</span>\n",
                "\n",
                "2\\. The UNION ALL combines the first query's results with a second query that <span style=\"color: var(--vscode-foreground);\">selects vehicles that had no casualties by performing a LEFT OUTER JOIN on&nbsp;</span> <span style=\"color: var(--vscode-foreground);\">the same tables, ensuring that vehicles without any casualties are included in&nbsp;</span> <span style=\"color: var(--vscode-foreground);\">the final result set with predefined values for casualty-related columns.</span>\n",
                "\n",
                "3\\. Together, these queries provide a comprehensive view of both vehicles <span style=\"color: var(--vscode-foreground);\">involved in accidents with and without associated casualties, allowing for</span> <span style=\"color: var(--vscode-foreground);\">analysis of accident data in relation to vehicle involvement and driver&nbsp;</span> <span style=\"color: var(--vscode-foreground);\">demographics.</span>"
            ],
            "metadata": {
                "azdata_cell_guid": "82581d32-5a4c-472d-9599-7b5351c103d5"
            },
            "attachments": {}
        },
        {
            "cell_type": "markdown",
            "source": [
                "WITH VehicleCasualtyData AS (\n",
                "\n",
                "    SELECT  \n",
                "\n",
                "        veh.accident\\_index,\n",
                "\n",
                "        veh.accident\\_reference,\n",
                "\n",
                "        veh.vehicle\\_reference,\n",
                "\n",
                "        veh.vehicle\\_type,\n",
                "\n",
                "        veh.sex\\_of\\_driver,\n",
                "\n",
                "        veh.age\\_band\\_of\\_driver,\n",
                "\n",
                "        1 as casualty\\_vehicle,\n",
                "\n",
                "        veh.age\\_of\\_driver,\n",
                "\n",
                "        COUNT(\\*) AS vehicle\\_casualty\\_count,\n",
                "\n",
                "        CASE \n",
                "\n",
                "            WHEN COUNT(\\*) = 0  THEN 'None'\n",
                "\n",
                "            WHEN COUNT(\\*) = 1  THEN 'Single'\n",
                "\n",
                "            WHEN COUNT(\\*) \\<= 4  THEN 'Multiple'\n",
                "\n",
                "            WHEN COUNT(\\*) \\<= 10 THEN 'High Multiple'\n",
                "\n",
                "            WHEN COUNT(\\*) \\> 10 THEN 'Extreme Multiple'\n",
                "\n",
                "            ELSE 'other'\n",
                "\n",
                "        END AS sql\\_casualty\\_to\\_vehicle\\_class\n",
                "\n",
                "    FROM stg.Vehicles veh\n",
                "\n",
                "    INNER JOIN stg.Casualties cas\n",
                "\n",
                "        ON veh.accident\\_index = cas.accident\\_index\n",
                "\n",
                "        AND veh.accident\\_reference = cas.accident\\_reference\n",
                "\n",
                "        AND veh.vehicle\\_reference = cas.vehicle\\_reference\n",
                "\n",
                "    GROUP BY \n",
                "\n",
                "        veh.accident\\_index,\n",
                "\n",
                "        veh.accident\\_reference,\n",
                "\n",
                "        veh.vehicle\\_reference,\n",
                "\n",
                "        veh.vehicle\\_type,\n",
                "\n",
                "        veh.sex\\_of\\_driver,\n",
                "\n",
                "        veh.age\\_band\\_of\\_driver,\n",
                "\n",
                "        veh.age\\_of\\_driver\n",
                "\n",
                "    UNION ALL\n",
                "\n",
                "    SELECT \n",
                "\n",
                "        veh.accident\\_index,\n",
                "\n",
                "        veh.accident\\_reference,\n",
                "\n",
                "        veh.vehicle\\_reference,\n",
                "\n",
                "        veh.vehicle\\_type,\n",
                "\n",
                "        veh.sex\\_of\\_driver,\n",
                "\n",
                "        veh.age\\_band\\_of\\_driver,\n",
                "\n",
                "        0 as casualty\\_vehicle,\n",
                "\n",
                "        veh.age\\_of\\_driver,\n",
                "\n",
                "        0 as vehicle\\_casualty\\_count,\n",
                "\n",
                "        'None' as sql\\_casualty\\_to\\_vehicle\\_class\n",
                "\n",
                "    FROM stg.Vehicles veh\n",
                "\n",
                "    LEFT OUTER JOIN (\n",
                "\n",
                "        SELECT DISTINCT veh.\\*\n",
                "\n",
                "        FROM stg.Vehicles veh\n",
                "\n",
                "        INNER JOIN stg.Casualties cas\n",
                "\n",
                "            ON veh.accident\\_index = cas.accident\\_index\n",
                "\n",
                "            AND veh.accident\\_reference = cas.accident\\_reference\n",
                "\n",
                "            AND veh.vehicle\\_reference = cas.vehicle\\_reference\n",
                "\n",
                "    ) vwc\n",
                "\n",
                "    ON veh.accident\\_index = vwc.accident\\_index\n",
                "\n",
                "    AND veh.vehicle\\_reference = vwc.vehicle\\_reference\n",
                "\n",
                "    WHERE vwc.accident\\_index IS NULL\n",
                "\n",
                ")\n",
                "\n",
                "SELECT TOP 5 \\*\n",
                "\n",
                "FROM VehicleCasualtyData;"
            ],
            "metadata": {
                "azdata_cell_guid": "bd17701e-06f4-47ae-bf2b-51e57fa2e6fb"
            },
            "attachments": {}
        },
        {
            "cell_type": "code",
            "source": [
                "WITH VehicleCasualtyData AS (\r\n",
                "    SELECT  \r\n",
                "        veh.accident_index,\r\n",
                "        veh.accident_reference,\r\n",
                "        veh.vehicle_reference,\r\n",
                "        veh.vehicle_type,\r\n",
                "        veh.sex_of_driver,\r\n",
                "        veh.age_band_of_driver,\r\n",
                "        1 as casualty_vehicle,\r\n",
                "        veh.age_of_driver,\r\n",
                "        COUNT(*) AS vehicle_casualty_count,\r\n",
                "        CASE \r\n",
                "            WHEN COUNT(*) = 0  THEN 'None'\r\n",
                "            WHEN COUNT(*) = 1  THEN 'Single'\r\n",
                "            WHEN COUNT(*) <= 4  THEN 'Multiple'\r\n",
                "            WHEN COUNT(*) <= 10 THEN 'High Multiple'\r\n",
                "            WHEN COUNT(*) > 10 THEN 'Extreme Multiple'\r\n",
                "            ELSE 'other'\r\n",
                "        END AS sql_casualty_to_vehicle_class\r\n",
                "    FROM stg.Vehicles veh\r\n",
                "    INNER JOIN stg.Casualties cas\r\n",
                "        ON veh.accident_index = cas.accident_index\r\n",
                "        AND veh.accident_reference = cas.accident_reference\r\n",
                "        AND veh.vehicle_reference = cas.vehicle_reference\r\n",
                "    GROUP BY \r\n",
                "        veh.accident_index,\r\n",
                "        veh.accident_reference,\r\n",
                "        veh.vehicle_reference,\r\n",
                "        veh.vehicle_type,\r\n",
                "        veh.sex_of_driver,\r\n",
                "        veh.age_band_of_driver,\r\n",
                "        veh.age_of_driver\r\n",
                "    UNION ALL\r\n",
                "    SELECT \r\n",
                "        veh.accident_index,\r\n",
                "        veh.accident_reference,\r\n",
                "        veh.vehicle_reference,\r\n",
                "        veh.vehicle_type,\r\n",
                "        veh.sex_of_driver,\r\n",
                "        veh.age_band_of_driver,\r\n",
                "        0 as casualty_vehicle,\r\n",
                "        veh.age_of_driver,\r\n",
                "        0 as vehicle_casualty_count,\r\n",
                "        'None' as sql_casualty_to_vehicle_class\r\n",
                "    FROM stg.Vehicles veh\r\n",
                "    LEFT OUTER JOIN (\r\n",
                "        SELECT DISTINCT veh.*\r\n",
                "        FROM stg.Vehicles veh\r\n",
                "        INNER JOIN stg.Casualties cas\r\n",
                "            ON veh.accident_index = cas.accident_index\r\n",
                "            AND veh.accident_reference = cas.accident_reference\r\n",
                "            AND veh.vehicle_reference = cas.vehicle_reference\r\n",
                "    ) vwc\r\n",
                "    ON veh.accident_index = vwc.accident_index\r\n",
                "    AND veh.vehicle_reference = vwc.vehicle_reference\r\n",
                "    WHERE vwc.accident_index IS NULL\r\n",
                ")\r\n",
                "SELECT TOP 5 *\r\n",
                "FROM VehicleCasualtyData;"
            ],
            "metadata": {
                "azdata_cell_guid": "9c4a3550-e8d7-40fa-b675-f6a30cff73e0",
                "language": "sql"
            },
            "outputs": [
                {
                    "output_type": "display_data",
                    "data": {
                        "text/html": "(5 rows affected)"
                    },
                    "metadata": {}
                },
                {
                    "output_type": "display_data",
                    "data": {
                        "text/html": "Total execution time: 00:00:01.129"
                    },
                    "metadata": {}
                },
                {
                    "output_type": "execute_result",
                    "execution_count": 50,
                    "data": {
                        "application/vnd.dataresource+json": {
                            "schema": {
                                "fields": [
                                    {
                                        "name": "accident_index"
                                    },
                                    {
                                        "name": "accident_reference"
                                    },
                                    {
                                        "name": "vehicle_reference"
                                    },
                                    {
                                        "name": "vehicle_type"
                                    },
                                    {
                                        "name": "sex_of_driver"
                                    },
                                    {
                                        "name": "age_band_of_driver"
                                    },
                                    {
                                        "name": "casualty_vehicle"
                                    },
                                    {
                                        "name": "age_of_driver"
                                    },
                                    {
                                        "name": "vehicle_casualty_count"
                                    },
                                    {
                                        "name": "sql_casualty_to_vehicle_class"
                                    }
                                ]
                            },
                            "data": [
                                {
                                    "accident_index": "2022170S12042",
                                    "accident_reference": "170S12042",
                                    "vehicle_reference": "1",
                                    "vehicle_type": "9",
                                    "sex_of_driver": "1",
                                    "age_band_of_driver": "9",
                                    "casualty_vehicle": "1",
                                    "age_of_driver": "58",
                                    "vehicle_casualty_count": "1",
                                    "sql_casualty_to_vehicle_class": "Single"
                                },
                                {
                                    "accident_index": "2023302301700",
                                    "accident_reference": "302301700",
                                    "vehicle_reference": "1",
                                    "vehicle_type": "9",
                                    "sex_of_driver": "1",
                                    "age_band_of_driver": "7",
                                    "casualty_vehicle": "1",
                                    "age_of_driver": "41",
                                    "vehicle_casualty_count": "1",
                                    "sql_casualty_to_vehicle_class": "Single"
                                },
                                {
                                    "accident_index": "2021141089913",
                                    "accident_reference": "141089913",
                                    "vehicle_reference": "1",
                                    "vehicle_type": "9",
                                    "sex_of_driver": "1",
                                    "age_band_of_driver": "8",
                                    "casualty_vehicle": "1",
                                    "age_of_driver": "53",
                                    "vehicle_casualty_count": "1",
                                    "sql_casualty_to_vehicle_class": "Single"
                                },
                                {
                                    "accident_index": "2023041340422",
                                    "accident_reference": "041340422",
                                    "vehicle_reference": "1",
                                    "vehicle_type": "9",
                                    "sex_of_driver": "1",
                                    "age_band_of_driver": "7",
                                    "casualty_vehicle": "1",
                                    "age_of_driver": "41",
                                    "vehicle_casualty_count": "1",
                                    "sql_casualty_to_vehicle_class": "Single"
                                },
                                {
                                    "accident_index": "2020500978516",
                                    "accident_reference": "500978516",
                                    "vehicle_reference": "1",
                                    "vehicle_type": "9",
                                    "sex_of_driver": "1",
                                    "age_band_of_driver": "4",
                                    "casualty_vehicle": "1",
                                    "age_of_driver": "18",
                                    "vehicle_casualty_count": "1",
                                    "sql_casualty_to_vehicle_class": "Single"
                                }
                            ]
                        },
                        "text/html": "<table><tr><th>accident_index</th><th>accident_reference</th><th>vehicle_reference</th><th>vehicle_type</th><th>sex_of_driver</th><th>age_band_of_driver</th><th>casualty_vehicle</th><th>age_of_driver</th><th>vehicle_casualty_count</th><th>sql_casualty_to_vehicle_class</th></tr><tr><td>2022170S12042</td><td>170S12042</td><td>1</td><td>9</td><td>1</td><td>9</td><td>1</td><td>58</td><td>1</td><td>Single</td></tr><tr><td>2023302301700</td><td>302301700</td><td>1</td><td>9</td><td>1</td><td>7</td><td>1</td><td>41</td><td>1</td><td>Single</td></tr><tr><td>2021141089913</td><td>141089913</td><td>1</td><td>9</td><td>1</td><td>8</td><td>1</td><td>53</td><td>1</td><td>Single</td></tr><tr><td>2023041340422</td><td>041340422</td><td>1</td><td>9</td><td>1</td><td>7</td><td>1</td><td>41</td><td>1</td><td>Single</td></tr><tr><td>2020500978516</td><td>500978516</td><td>1</td><td>9</td><td>1</td><td>4</td><td>1</td><td>18</td><td>1</td><td>Single</td></tr></table>"
                    },
                    "metadata": {}
                }
            ],
            "execution_count": 50
        },
        {
            "cell_type": "markdown",
            "source": [
                "# 💡💡💡24: CTE -(Common Table Expression)"
            ],
            "metadata": {
                "language": "sql",
                "azdata_cell_guid": "49d978e4-f246-4268-8d67-8b44a5c9af26"
            },
            "attachments": {}
        },
        {
            "cell_type": "markdown",
            "source": [
                "This code creates a Common Table Expression (CTE) called MGRCTE that selects information about employees <span style=\"color: var(--vscode-foreground);\">who are managers, pulling their ID, full name, and job title. It then joins this CTE to the main Employees</span><span style=\"color: var(--vscode-foreground);\">table to retrieve a list of all employees along with their personal details, as well as information about&nbsp;</span> <span style=\"color: var(--vscode-foreground);\">their managers (like manager ID, name, and title) if they report to one. This final result includes all&nbsp;</span> <span style=\"color: var(--vscode-foreground);\">employees, whether they have a manager or not, thanks to the LEFT OUTER JOIN with the MGRCTE.</span>"
            ],
            "metadata": {
                "language": "sql",
                "azdata_cell_guid": "bff6b627-20c9-4f93-abe3-2d643407f412"
            },
            "attachments": {}
        },
        {
            "cell_type": "markdown",
            "source": [
                "USE Northwind\\_2023\n",
                "\n",
                "GO\n",
                "\n",
                "  \n",
                "\n",
                "WITH MGRCTE as (\n",
                "\n",
                "    SELECT \n",
                "\n",
                "        mgr.EmployeeID as 'MgrId',\n",
                "\n",
                "        CONCAT(mgr.FirstName, ' ', mgr.LastName) as 'Manager',\n",
                "\n",
                "        mgr.Title\n",
                "\n",
                "    FROM dbo.Employees as mgr\n",
                "\n",
                "    WHERE mgr.EmployeeID IN \n",
                "\n",
                "        (SELECT DISTINCT ReportsTo FROM dbo.Employees)\n",
                "\n",
                ")\n",
                "\n",
                "SELECT \n",
                "\n",
                "    emp.EmployeeID\n",
                "\n",
                "    ,emp.LastName\n",
                "\n",
                "    ,emp.FirstName\n",
                "\n",
                "    ,emp.Title\n",
                "\n",
                "    ,emp.TitleOfCourtesy\n",
                "\n",
                "    ,CAST(emp.BirthDate as DATE) as BirthDate\n",
                "\n",
                "    ,CAST(emp.HireDate as DATE) as HireDate\n",
                "\n",
                "    ,emp.\\[Address\\]\n",
                "\n",
                "    ,emp.City\n",
                "\n",
                "    ,emp.Region\n",
                "\n",
                "    ,emp.PostalCode\n",
                "\n",
                "    ,emp.Country\n",
                "\n",
                "    ,emp.HomePhone\n",
                "\n",
                "    ,emp.Extension\n",
                "\n",
                "    ,emp.ReportsTo\n",
                "\n",
                "    ,mgr.MgrId\n",
                "\n",
                "    ,mgr.Manager\n",
                "\n",
                "    ,mgr.Title as 'MgrTitle'\n",
                "\n",
                "FROM dbo.Employees as emp\n",
                "\n",
                "    LEFT OUTER JOIN MGRCTE as mgr\n",
                "\n",
                "    ON emp.ReportsTo = mgr.MgrId\n",
                "\n",
                ";"
            ],
            "metadata": {
                "language": "sql",
                "azdata_cell_guid": "60eadcc0-46d2-4241-bca7-2f8632b75534"
            },
            "attachments": {}
        },
        {
            "cell_type": "code",
            "source": [
                "USE Northwind_2023\r\n",
                "GO\r\n",
                "\r\n",
                "WITH MGRCTE as (\r\n",
                "    SELECT \r\n",
                "        mgr.EmployeeID as 'MgrId',\r\n",
                "        CONCAT(mgr.FirstName, ' ', mgr.LastName) as 'Manager',\r\n",
                "        mgr.Title\r\n",
                "    FROM dbo.Employees as mgr\r\n",
                "    WHERE mgr.EmployeeID IN \r\n",
                "        (SELECT DISTINCT ReportsTo FROM dbo.Employees)\r\n",
                ")\r\n",
                "SELECT \r\n",
                "    emp.EmployeeID\r\n",
                "    ,emp.LastName\r\n",
                "    ,emp.FirstName\r\n",
                "    ,emp.Title\r\n",
                "    ,emp.TitleOfCourtesy\r\n",
                "    ,CAST(emp.BirthDate as DATE) as BirthDate\r\n",
                "    ,CAST(emp.HireDate as DATE) as HireDate\r\n",
                "    ,emp.[Address]\r\n",
                "    ,emp.City\r\n",
                "    ,emp.Region\r\n",
                "    ,emp.PostalCode\r\n",
                "    ,emp.Country\r\n",
                "    ,emp.HomePhone\r\n",
                "    ,emp.Extension\r\n",
                "    ,emp.ReportsTo\r\n",
                "    ,mgr.MgrId\r\n",
                "    ,mgr.Manager\r\n",
                "    ,mgr.Title as 'MgrTitle'\r\n",
                "FROM dbo.Employees as emp\r\n",
                "    LEFT OUTER JOIN MGRCTE as mgr\r\n",
                "    ON emp.ReportsTo = mgr.MgrId\r\n",
                ";"
            ],
            "metadata": {
                "language": "sql",
                "azdata_cell_guid": "ed4bcf64-a0f1-4ffa-8949-c7b027e9feda"
            },
            "outputs": [
                {
                    "output_type": "display_data",
                    "data": {
                        "text/html": "Commands completed successfully."
                    },
                    "metadata": {}
                },
                {
                    "output_type": "display_data",
                    "data": {
                        "text/html": "(9 rows affected)"
                    },
                    "metadata": {}
                },
                {
                    "output_type": "display_data",
                    "data": {
                        "text/html": "Total execution time: 00:00:00.019"
                    },
                    "metadata": {}
                },
                {
                    "output_type": "execute_result",
                    "metadata": {},
                    "execution_count": 5,
                    "data": {
                        "application/vnd.dataresource+json": {
                            "schema": {
                                "fields": [
                                    {
                                        "name": "EmployeeID"
                                    },
                                    {
                                        "name": "LastName"
                                    },
                                    {
                                        "name": "FirstName"
                                    },
                                    {
                                        "name": "Title"
                                    },
                                    {
                                        "name": "TitleOfCourtesy"
                                    },
                                    {
                                        "name": "BirthDate"
                                    },
                                    {
                                        "name": "HireDate"
                                    },
                                    {
                                        "name": "Address"
                                    },
                                    {
                                        "name": "City"
                                    },
                                    {
                                        "name": "Region"
                                    },
                                    {
                                        "name": "PostalCode"
                                    },
                                    {
                                        "name": "Country"
                                    },
                                    {
                                        "name": "HomePhone"
                                    },
                                    {
                                        "name": "Extension"
                                    },
                                    {
                                        "name": "ReportsTo"
                                    },
                                    {
                                        "name": "MgrId"
                                    },
                                    {
                                        "name": "Manager"
                                    },
                                    {
                                        "name": "MgrTitle"
                                    }
                                ]
                            },
                            "data": [
                                {
                                    "EmployeeID": "1",
                                    "LastName": "Davolio",
                                    "FirstName": "Nancy",
                                    "Title": "Sales Representative",
                                    "TitleOfCourtesy": "Ms.",
                                    "BirthDate": "1973-12-08",
                                    "HireDate": "2017-05-01",
                                    "Address": "507 - 20th Ave. E.Apt. 2A",
                                    "City": "Seattle",
                                    "Region": "WA",
                                    "PostalCode": "98122",
                                    "Country": "USA",
                                    "HomePhone": "(206) 555-9857",
                                    "Extension": "5467",
                                    "ReportsTo": "2",
                                    "MgrId": "2",
                                    "Manager": "Andrew Fuller",
                                    "MgrTitle": "Vice President, Sales"
                                },
                                {
                                    "EmployeeID": "2",
                                    "LastName": "Fuller",
                                    "FirstName": "Andrew",
                                    "Title": "Vice President, Sales",
                                    "TitleOfCourtesy": "Dr.",
                                    "BirthDate": "1977-02-19",
                                    "HireDate": "2017-08-14",
                                    "Address": "908 W. Capital Way",
                                    "City": "Tacoma",
                                    "Region": "WA",
                                    "PostalCode": "98401",
                                    "Country": "USA",
                                    "HomePhone": "(206) 555-9482",
                                    "Extension": "3457",
                                    "ReportsTo": "NULL",
                                    "MgrId": "NULL",
                                    "Manager": "NULL",
                                    "MgrTitle": "NULL"
                                },
                                {
                                    "EmployeeID": "3",
                                    "LastName": "Leverling",
                                    "FirstName": "Janet",
                                    "Title": "Sales Representative",
                                    "TitleOfCourtesy": "Ms.",
                                    "BirthDate": "1988-08-30",
                                    "HireDate": "2017-04-01",
                                    "Address": "722 Moss Bay Blvd.",
                                    "City": "Kirkland",
                                    "Region": "WA",
                                    "PostalCode": "98033",
                                    "Country": "USA",
                                    "HomePhone": "(206) 555-3412",
                                    "Extension": "3355",
                                    "ReportsTo": "2",
                                    "MgrId": "2",
                                    "Manager": "Andrew Fuller",
                                    "MgrTitle": "Vice President, Sales"
                                },
                                {
                                    "EmployeeID": "4",
                                    "LastName": "Peacock",
                                    "FirstName": "Margaret",
                                    "Title": "Sales Representative",
                                    "TitleOfCourtesy": "Mrs.",
                                    "BirthDate": "1962-09-19",
                                    "HireDate": "2018-05-03",
                                    "Address": "4110 Old Redmond Rd.",
                                    "City": "Redmond",
                                    "Region": "WA",
                                    "PostalCode": "98052",
                                    "Country": "USA",
                                    "HomePhone": "(206) 555-8122",
                                    "Extension": "5176",
                                    "ReportsTo": "2",
                                    "MgrId": "2",
                                    "Manager": "Andrew Fuller",
                                    "MgrTitle": "Vice President, Sales"
                                },
                                {
                                    "EmployeeID": "5",
                                    "LastName": "Buchanan",
                                    "FirstName": "Steven",
                                    "Title": "Sales Manager",
                                    "TitleOfCourtesy": "Mr.",
                                    "BirthDate": "1980-03-04",
                                    "HireDate": "2018-10-17",
                                    "Address": "14 Garrett Hill",
                                    "City": "London",
                                    "Region": "NULL",
                                    "PostalCode": "SW1 8JR",
                                    "Country": "UK",
                                    "HomePhone": "(71) 555-4848",
                                    "Extension": "3453",
                                    "ReportsTo": "2",
                                    "MgrId": "2",
                                    "Manager": "Andrew Fuller",
                                    "MgrTitle": "Vice President, Sales"
                                },
                                {
                                    "EmployeeID": "6",
                                    "LastName": "Suyama",
                                    "FirstName": "Michael",
                                    "Title": "Sales Representative",
                                    "TitleOfCourtesy": "Mr.",
                                    "BirthDate": "1988-07-02",
                                    "HireDate": "2018-10-17",
                                    "Address": "Coventry House\r\nMiner Rd.",
                                    "City": "London",
                                    "Region": "NULL",
                                    "PostalCode": "EC2 7JR",
                                    "Country": "UK",
                                    "HomePhone": "(71) 555-7773",
                                    "Extension": "428",
                                    "ReportsTo": "5",
                                    "MgrId": "5",
                                    "Manager": "Steven Buchanan",
                                    "MgrTitle": "Sales Manager"
                                },
                                {
                                    "EmployeeID": "7",
                                    "LastName": "King",
                                    "FirstName": "Robert",
                                    "Title": "Sales Representative",
                                    "TitleOfCourtesy": "Mr.",
                                    "BirthDate": "1985-05-29",
                                    "HireDate": "2019-01-02",
                                    "Address": "Edgeham Hollow\r\nWinchester Way",
                                    "City": "London",
                                    "Region": "NULL",
                                    "PostalCode": "RG1 9SP",
                                    "Country": "UK",
                                    "HomePhone": "(71) 555-5598",
                                    "Extension": "465",
                                    "ReportsTo": "5",
                                    "MgrId": "5",
                                    "Manager": "Steven Buchanan",
                                    "MgrTitle": "Sales Manager"
                                },
                                {
                                    "EmployeeID": "8",
                                    "LastName": "Callahan",
                                    "FirstName": "Laura",
                                    "Title": "Inside Sales Coordinator",
                                    "TitleOfCourtesy": "Ms.",
                                    "BirthDate": "1983-01-09",
                                    "HireDate": "2019-03-05",
                                    "Address": "4726 - 11th Ave. N.E.",
                                    "City": "Seattle",
                                    "Region": "WA",
                                    "PostalCode": "98105",
                                    "Country": "USA",
                                    "HomePhone": "(206) 555-1189",
                                    "Extension": "2344",
                                    "ReportsTo": "2",
                                    "MgrId": "2",
                                    "Manager": "Andrew Fuller",
                                    "MgrTitle": "Vice President, Sales"
                                },
                                {
                                    "EmployeeID": "9",
                                    "LastName": "Dodsworth",
                                    "FirstName": "Anne",
                                    "Title": "Sales Representative",
                                    "TitleOfCourtesy": "Ms.",
                                    "BirthDate": "1991-01-27",
                                    "HireDate": "2019-11-15",
                                    "Address": "7 Houndstooth Rd.",
                                    "City": "London",
                                    "Region": "NULL",
                                    "PostalCode": "WG2 7LT",
                                    "Country": "UK",
                                    "HomePhone": "(71) 555-4444",
                                    "Extension": "452",
                                    "ReportsTo": "5",
                                    "MgrId": "5",
                                    "Manager": "Steven Buchanan",
                                    "MgrTitle": "Sales Manager"
                                }
                            ]
                        },
                        "text/html": [
                            "<table>",
                            "<tr><th>EmployeeID</th><th>LastName</th><th>FirstName</th><th>Title</th><th>TitleOfCourtesy</th><th>BirthDate</th><th>HireDate</th><th>Address</th><th>City</th><th>Region</th><th>PostalCode</th><th>Country</th><th>HomePhone</th><th>Extension</th><th>ReportsTo</th><th>MgrId</th><th>Manager</th><th>MgrTitle</th></tr>",
                            "<tr><td>1</td><td>Davolio</td><td>Nancy</td><td>Sales Representative</td><td>Ms.</td><td>1973-12-08</td><td>2017-05-01</td><td>507 - 20th Ave. E.Apt. 2A</td><td>Seattle</td><td>WA</td><td>98122</td><td>USA</td><td>(206) 555-9857</td><td>5467</td><td>2</td><td>2</td><td>Andrew Fuller</td><td>Vice President, Sales</td></tr>",
                            "<tr><td>2</td><td>Fuller</td><td>Andrew</td><td>Vice President, Sales</td><td>Dr.</td><td>1977-02-19</td><td>2017-08-14</td><td>908 W. Capital Way</td><td>Tacoma</td><td>WA</td><td>98401</td><td>USA</td><td>(206) 555-9482</td><td>3457</td><td>NULL</td><td>NULL</td><td>NULL</td><td>NULL</td></tr>",
                            "<tr><td>3</td><td>Leverling</td><td>Janet</td><td>Sales Representative</td><td>Ms.</td><td>1988-08-30</td><td>2017-04-01</td><td>722 Moss Bay Blvd.</td><td>Kirkland</td><td>WA</td><td>98033</td><td>USA</td><td>(206) 555-3412</td><td>3355</td><td>2</td><td>2</td><td>Andrew Fuller</td><td>Vice President, Sales</td></tr>",
                            "<tr><td>4</td><td>Peacock</td><td>Margaret</td><td>Sales Representative</td><td>Mrs.</td><td>1962-09-19</td><td>2018-05-03</td><td>4110 Old Redmond Rd.</td><td>Redmond</td><td>WA</td><td>98052</td><td>USA</td><td>(206) 555-8122</td><td>5176</td><td>2</td><td>2</td><td>Andrew Fuller</td><td>Vice President, Sales</td></tr>",
                            "<tr><td>5</td><td>Buchanan</td><td>Steven</td><td>Sales Manager</td><td>Mr.</td><td>1980-03-04</td><td>2018-10-17</td><td>14 Garrett Hill</td><td>London</td><td>NULL</td><td>SW1 8JR</td><td>UK</td><td>(71) 555-4848</td><td>3453</td><td>2</td><td>2</td><td>Andrew Fuller</td><td>Vice President, Sales</td></tr>",
                            "<tr><td>6</td><td>Suyama</td><td>Michael</td><td>Sales Representative</td><td>Mr.</td><td>1988-07-02</td><td>2018-10-17</td><td>Coventry House\r\nMiner Rd.</td><td>London</td><td>NULL</td><td>EC2 7JR</td><td>UK</td><td>(71) 555-7773</td><td>428</td><td>5</td><td>5</td><td>Steven Buchanan</td><td>Sales Manager</td></tr>",
                            "<tr><td>7</td><td>King</td><td>Robert</td><td>Sales Representative</td><td>Mr.</td><td>1985-05-29</td><td>2019-01-02</td><td>Edgeham Hollow\r\nWinchester Way</td><td>London</td><td>NULL</td><td>RG1 9SP</td><td>UK</td><td>(71) 555-5598</td><td>465</td><td>5</td><td>5</td><td>Steven Buchanan</td><td>Sales Manager</td></tr>",
                            "<tr><td>8</td><td>Callahan</td><td>Laura</td><td>Inside Sales Coordinator</td><td>Ms.</td><td>1983-01-09</td><td>2019-03-05</td><td>4726 - 11th Ave. N.E.</td><td>Seattle</td><td>WA</td><td>98105</td><td>USA</td><td>(206) 555-1189</td><td>2344</td><td>2</td><td>2</td><td>Andrew Fuller</td><td>Vice President, Sales</td></tr>",
                            "<tr><td>9</td><td>Dodsworth</td><td>Anne</td><td>Sales Representative</td><td>Ms.</td><td>1991-01-27</td><td>2019-11-15</td><td>7 Houndstooth Rd.</td><td>London</td><td>NULL</td><td>WG2 7LT</td><td>UK</td><td>(71) 555-4444</td><td>452</td><td>5</td><td>5</td><td>Steven Buchanan</td><td>Sales Manager</td></tr>",
                            "</table>"
                        ]
                    }
                }
            ],
            "execution_count": 5
        },
        {
            "cell_type": "markdown",
            "source": [
                "# 💡💡💡Tip 25. SubSelect SQL"
            ],
            "metadata": {
                "language": "sql",
                "azdata_cell_guid": "7f1cb59e-08f1-41a6-8fe8-ffff5d086d67"
            },
            "attachments": {}
        },
        {
            "cell_type": "markdown",
            "source": [
                "Explanation:\n",
                "\n",
                "This SQL query selects customer information, such as CustomerID, ContactName<span style=\"color: var(--vscode-foreground);\">,and address details, from the Customers table for those located in Germany&nbsp;</span>  <span style=\"color: var(--vscode-foreground);\">or Spain. It includes a sub-select that calculates the TotalOrderAmount&nbsp;</span>  <span style=\"color: var(--vscode-foreground);\">for each customer by summing the products of Quantity and Price from the&nbsp;</span>  <span style=\"color: var(--vscode-foreground);\">OrderDetails and Products tables, filtered by the customer's orders.&nbsp;</span> <span style=\"color: var(--vscode-foreground);\">The result provides a comprehensive view of customers' details along with their&nbsp;</span> <span style=\"color: var(--vscode-foreground);\">total spending on orders.</span>"
            ],
            "metadata": {
                "language": "sql",
                "azdata_cell_guid": "d31ce1d5-9030-42c2-97ef-c82a9318b1ed"
            },
            "attachments": {}
        },
        {
            "cell_type": "markdown",
            "source": [
                "USE w3schools\\_tutor3;\n",
                "\n",
                "GO\n",
                "\n",
                "  \n",
                "\n",
                "SELECT TOP 5 cus.CustomerID\n",
                "\n",
                "      ,cus.ContactName\n",
                "\n",
                "  ,cus.\\[Address\\]\n",
                "\n",
                "  ,cus.City\n",
                "\n",
                "  ,cus.PostalCode\n",
                "\n",
                "  ,cus.Country\n",
                "\n",
                "  ,(SELECT SUM(od.Quantity \\* prod.Price) \n",
                "\n",
                "     FROM OrderDetails od\n",
                "\n",
                "     INNER JOIN Products prod \n",
                "\n",
                "ON od.ProductID = prod.ProductID\n",
                "\n",
                "     WHERE od.OrderID IN (\n",
                "\n",
                "         SELECT ord.OrderID \n",
                "\n",
                "         FROM Orders ord \n",
                "\n",
                "         WHERE ord.CustomerID = cus.CustomerID)\n",
                "\n",
                "    ) as TotalOrderAmount\n",
                "\n",
                "FROM Customers cus\n",
                "\n",
                "WHERE cus.Country = 'Germany' OR cus.Country = 'Spain'\n",
                "\n",
                ";"
            ],
            "metadata": {
                "language": "sql",
                "azdata_cell_guid": "51d3f715-a285-464e-ae99-8ce3c6dda792"
            },
            "attachments": {}
        },
        {
            "cell_type": "code",
            "source": [
                "USE w3schools_tutor3;\r\n",
                "GO\r\n",
                "\r\n",
                "SELECT TOP 5 cus.CustomerID\r\n",
                "      ,cus.ContactName\r\n",
                "\t  ,cus.[Address]\r\n",
                "\t  ,cus.City\r\n",
                "\t  ,cus.PostalCode\r\n",
                "\t  ,cus.Country\r\n",
                "\t  ,(SELECT SUM(od.Quantity * prod.Price) \r\n",
                "     FROM OrderDetails od\r\n",
                "     INNER JOIN Products prod \r\n",
                "\t ON od.ProductID = prod.ProductID\r\n",
                "     WHERE od.OrderID IN (\r\n",
                "         SELECT ord.OrderID \r\n",
                "         FROM Orders ord \r\n",
                "         WHERE ord.CustomerID = cus.CustomerID)\r\n",
                "    ) as TotalOrderAmount\r\n",
                "FROM Customers cus\r\n",
                "WHERE cus.Country = 'Germany' OR cus.Country = 'Spain'\r\n",
                ";\r\n",
                ""
            ],
            "metadata": {
                "language": "sql",
                "azdata_cell_guid": "e0f37255-c945-4945-afdc-512d5a275d43"
            },
            "outputs": [
                {
                    "output_type": "display_data",
                    "data": {
                        "text/html": "Commands completed successfully."
                    },
                    "metadata": {}
                },
                {
                    "output_type": "display_data",
                    "data": {
                        "text/html": "(5 rows affected)"
                    },
                    "metadata": {}
                },
                {
                    "output_type": "display_data",
                    "data": {
                        "text/html": "Total execution time: 00:00:00.043"
                    },
                    "metadata": {}
                },
                {
                    "output_type": "execute_result",
                    "metadata": {},
                    "execution_count": 6,
                    "data": {
                        "application/vnd.dataresource+json": {
                            "schema": {
                                "fields": [
                                    {
                                        "name": "CustomerID"
                                    },
                                    {
                                        "name": "ContactName"
                                    },
                                    {
                                        "name": "Address"
                                    },
                                    {
                                        "name": "City"
                                    },
                                    {
                                        "name": "PostalCode"
                                    },
                                    {
                                        "name": "Country"
                                    },
                                    {
                                        "name": "TotalOrderAmount"
                                    }
                                ]
                            },
                            "data": [
                                {
                                    "CustomerID": "1",
                                    "ContactName": "Maria Anders",
                                    "Address": "Obere Str. 57",
                                    "City": "Berlin",
                                    "PostalCode": "12209",
                                    "Country": "Germany",
                                    "TotalOrderAmount": "NULL"
                                },
                                {
                                    "CustomerID": "6",
                                    "ContactName": "Hanna Moos",
                                    "Address": "Forsterstr. 57",
                                    "City": "Mannheim",
                                    "PostalCode": "68306",
                                    "Country": "Germany",
                                    "TotalOrderAmount": "NULL"
                                },
                                {
                                    "CustomerID": "8",
                                    "ContactName": "Martín Sommer",
                                    "Address": "C/ Araquil, 67",
                                    "City": "Madrid",
                                    "PostalCode": "28023",
                                    "Country": "Spain",
                                    "TotalOrderAmount": "1227.50"
                                },
                                {
                                    "CustomerID": "17",
                                    "ContactName": "Sven Ottlieb",
                                    "Address": "Walserweg 21",
                                    "City": "Aachen",
                                    "PostalCode": "52066",
                                    "Country": "Germany",
                                    "TotalOrderAmount": "667.00"
                                },
                                {
                                    "CustomerID": "22",
                                    "ContactName": "Diego Roel",
                                    "Address": "C/ Moralzarzal, 86",
                                    "City": "Madrid",
                                    "PostalCode": "28034",
                                    "Country": "Spain",
                                    "TotalOrderAmount": "NULL"
                                }
                            ]
                        },
                        "text/html": [
                            "<table>",
                            "<tr><th>CustomerID</th><th>ContactName</th><th>Address</th><th>City</th><th>PostalCode</th><th>Country</th><th>TotalOrderAmount</th></tr>",
                            "<tr><td>1</td><td>Maria Anders</td><td>Obere Str. 57</td><td>Berlin</td><td>12209</td><td>Germany</td><td>NULL</td></tr>",
                            "<tr><td>6</td><td>Hanna Moos</td><td>Forsterstr. 57</td><td>Mannheim</td><td>68306</td><td>Germany</td><td>NULL</td></tr>",
                            "<tr><td>8</td><td>Martín Sommer</td><td>C/ Araquil, 67</td><td>Madrid</td><td>28023</td><td>Spain</td><td>1227.50</td></tr>",
                            "<tr><td>17</td><td>Sven Ottlieb</td><td>Walserweg 21</td><td>Aachen</td><td>52066</td><td>Germany</td><td>667.00</td></tr>",
                            "<tr><td>22</td><td>Diego Roel</td><td>C/ Moralzarzal, 86</td><td>Madrid</td><td>28034</td><td>Spain</td><td>NULL</td></tr>",
                            "</table>"
                        ]
                    }
                }
            ],
            "execution_count": 6
        }
    ]
}